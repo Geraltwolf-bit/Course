{
 "cells": [
  {
   "cell_type": "code",
   "execution_count": 1,
   "id": "83e23ae9",
   "metadata": {
    "_cell_guid": "b1076dfc-b9ad-4769-8c92-a6c4dae69d19",
    "_uuid": "8f2839f25d086af736a60e9eeb907d3b93b6e0e5",
    "execution": {
     "iopub.execute_input": "2025-08-08T15:27:43.339212Z",
     "iopub.status.busy": "2025-08-08T15:27:43.338904Z",
     "iopub.status.idle": "2025-08-08T15:27:45.245615Z",
     "shell.execute_reply": "2025-08-08T15:27:45.244456Z"
    },
    "papermill": {
     "duration": 1.91909,
     "end_time": "2025-08-08T15:27:45.247446",
     "exception": false,
     "start_time": "2025-08-08T15:27:43.328356",
     "status": "completed"
    },
    "tags": []
   },
   "outputs": [
    {
     "name": "stdout",
     "output_type": "stream",
     "text": [
      "/kaggle/input/lesson2/training.csv\n"
     ]
    }
   ],
   "source": [
    "# This Python 3 environment comes with many helpful analytics libraries installed\n",
    "# It is defined by the kaggle/python Docker image: https://github.com/kaggle/docker-python\n",
    "# For example, here's several helpful packages to load\n",
    "\n",
    "import numpy as np # linear algebra\n",
    "import pandas as pd # data processing, CSV file I/O (e.g. pd.read_csv)\n",
    "\n",
    "# Input data files are available in the read-only \"../input/\" directory\n",
    "# For example, running this (by clicking run or pressing Shift+Enter) will list all files under the input directory\n",
    "\n",
    "import os\n",
    "for dirname, _, filenames in os.walk('/kaggle/input'):\n",
    "    for filename in filenames:\n",
    "        print(os.path.join(dirname, filename))\n",
    "\n",
    "# You can write up to 20GB to the current directory (/kaggle/working/) that gets preserved as output when you create a version using \"Save & Run All\" \n",
    "# You can also write temporary files to /kaggle/temp/, but they won't be saved outside of the current session"
   ]
  },
  {
   "cell_type": "code",
   "execution_count": 2,
   "id": "5706d489",
   "metadata": {
    "execution": {
     "iopub.execute_input": "2025-08-08T15:27:45.271824Z",
     "iopub.status.busy": "2025-08-08T15:27:45.271281Z",
     "iopub.status.idle": "2025-08-08T15:27:45.881858Z",
     "shell.execute_reply": "2025-08-08T15:27:45.880868Z"
    },
    "papermill": {
     "duration": 0.62566,
     "end_time": "2025-08-08T15:27:45.883613",
     "exception": false,
     "start_time": "2025-08-08T15:27:45.257953",
     "status": "completed"
    },
    "tags": []
   },
   "outputs": [
    {
     "data": {
      "text/html": [
       "<div>\n",
       "<style scoped>\n",
       "    .dataframe tbody tr th:only-of-type {\n",
       "        vertical-align: middle;\n",
       "    }\n",
       "\n",
       "    .dataframe tbody tr th {\n",
       "        vertical-align: top;\n",
       "    }\n",
       "\n",
       "    .dataframe thead th {\n",
       "        text-align: right;\n",
       "    }\n",
       "</style>\n",
       "<table border=\"1\" class=\"dataframe\">\n",
       "  <thead>\n",
       "    <tr style=\"text-align: right;\">\n",
       "      <th></th>\n",
       "      <th>gender</th>\n",
       "      <th>antivirus</th>\n",
       "      <th>multirum</th>\n",
       "      <th>tv_paket</th>\n",
       "      <th>is_active_jan_2018</th>\n",
       "      <th>is_active_jan_2019</th>\n",
       "      <th>months_active_on_jan_2019</th>\n",
       "      <th>avg_revenue_per_month</th>\n",
       "      <th>profession</th>\n",
       "      <th>gb_incoming_outgoung</th>\n",
       "      <th>tv_hours_per_day</th>\n",
       "      <th>virus_count_per_year</th>\n",
       "      <th>num_of_support_interactions</th>\n",
       "    </tr>\n",
       "  </thead>\n",
       "  <tbody>\n",
       "    <tr>\n",
       "      <th>0</th>\n",
       "      <td>F</td>\n",
       "      <td>1</td>\n",
       "      <td>0</td>\n",
       "      <td>1</td>\n",
       "      <td>1</td>\n",
       "      <td>1</td>\n",
       "      <td>44</td>\n",
       "      <td>1216.55</td>\n",
       "      <td>Student</td>\n",
       "      <td>56.820000</td>\n",
       "      <td>5.09</td>\n",
       "      <td>6</td>\n",
       "      <td>6</td>\n",
       "    </tr>\n",
       "    <tr>\n",
       "      <th>1</th>\n",
       "      <td>M</td>\n",
       "      <td>1</td>\n",
       "      <td>0</td>\n",
       "      <td>1</td>\n",
       "      <td>1</td>\n",
       "      <td>1</td>\n",
       "      <td>58</td>\n",
       "      <td>218.00</td>\n",
       "      <td>Artist</td>\n",
       "      <td>1045.570000</td>\n",
       "      <td>5.23</td>\n",
       "      <td>3</td>\n",
       "      <td>6</td>\n",
       "    </tr>\n",
       "    <tr>\n",
       "      <th>2</th>\n",
       "      <td>F</td>\n",
       "      <td>0</td>\n",
       "      <td>0</td>\n",
       "      <td>0</td>\n",
       "      <td>1</td>\n",
       "      <td>1</td>\n",
       "      <td>66</td>\n",
       "      <td>545.09</td>\n",
       "      <td>Retired</td>\n",
       "      <td>235.770000</td>\n",
       "      <td>0.00</td>\n",
       "      <td>0</td>\n",
       "      <td>9</td>\n",
       "    </tr>\n",
       "    <tr>\n",
       "      <th>3</th>\n",
       "      <td>M</td>\n",
       "      <td>0</td>\n",
       "      <td>0</td>\n",
       "      <td>0</td>\n",
       "      <td>1</td>\n",
       "      <td>1</td>\n",
       "      <td>35</td>\n",
       "      <td>499.92</td>\n",
       "      <td>Manager</td>\n",
       "      <td>543.144975</td>\n",
       "      <td>0.00</td>\n",
       "      <td>0</td>\n",
       "      <td>6</td>\n",
       "    </tr>\n",
       "    <tr>\n",
       "      <th>4</th>\n",
       "      <td>F</td>\n",
       "      <td>0</td>\n",
       "      <td>0</td>\n",
       "      <td>0</td>\n",
       "      <td>1</td>\n",
       "      <td>0</td>\n",
       "      <td>0</td>\n",
       "      <td>59.39</td>\n",
       "      <td>Retired</td>\n",
       "      <td>485.420000</td>\n",
       "      <td>0.00</td>\n",
       "      <td>0</td>\n",
       "      <td>3</td>\n",
       "    </tr>\n",
       "    <tr>\n",
       "      <th>...</th>\n",
       "      <td>...</td>\n",
       "      <td>...</td>\n",
       "      <td>...</td>\n",
       "      <td>...</td>\n",
       "      <td>...</td>\n",
       "      <td>...</td>\n",
       "      <td>...</td>\n",
       "      <td>...</td>\n",
       "      <td>...</td>\n",
       "      <td>...</td>\n",
       "      <td>...</td>\n",
       "      <td>...</td>\n",
       "      <td>...</td>\n",
       "    </tr>\n",
       "    <tr>\n",
       "      <th>256026</th>\n",
       "      <td>F</td>\n",
       "      <td>0</td>\n",
       "      <td>1</td>\n",
       "      <td>0</td>\n",
       "      <td>1</td>\n",
       "      <td>1</td>\n",
       "      <td>56</td>\n",
       "      <td>434.78</td>\n",
       "      <td>Retired</td>\n",
       "      <td>619.885024</td>\n",
       "      <td>0.00</td>\n",
       "      <td>0</td>\n",
       "      <td>5</td>\n",
       "    </tr>\n",
       "    <tr>\n",
       "      <th>256027</th>\n",
       "      <td>M</td>\n",
       "      <td>1</td>\n",
       "      <td>1</td>\n",
       "      <td>1</td>\n",
       "      <td>0</td>\n",
       "      <td>1</td>\n",
       "      <td>61</td>\n",
       "      <td>134.10</td>\n",
       "      <td>Retired</td>\n",
       "      <td>466.559493</td>\n",
       "      <td>2.05</td>\n",
       "      <td>3</td>\n",
       "      <td>0</td>\n",
       "    </tr>\n",
       "    <tr>\n",
       "      <th>256028</th>\n",
       "      <td>M</td>\n",
       "      <td>0</td>\n",
       "      <td>1</td>\n",
       "      <td>1</td>\n",
       "      <td>1</td>\n",
       "      <td>0</td>\n",
       "      <td>0</td>\n",
       "      <td>926.33</td>\n",
       "      <td>Teacher</td>\n",
       "      <td>1446.570000</td>\n",
       "      <td>3.68</td>\n",
       "      <td>0</td>\n",
       "      <td>3</td>\n",
       "    </tr>\n",
       "    <tr>\n",
       "      <th>256029</th>\n",
       "      <td>F</td>\n",
       "      <td>0</td>\n",
       "      <td>0</td>\n",
       "      <td>0</td>\n",
       "      <td>1</td>\n",
       "      <td>1</td>\n",
       "      <td>50</td>\n",
       "      <td>155.37</td>\n",
       "      <td>Retired</td>\n",
       "      <td>264.980000</td>\n",
       "      <td>0.00</td>\n",
       "      <td>0</td>\n",
       "      <td>9</td>\n",
       "    </tr>\n",
       "    <tr>\n",
       "      <th>256030</th>\n",
       "      <td>F</td>\n",
       "      <td>0</td>\n",
       "      <td>0</td>\n",
       "      <td>1</td>\n",
       "      <td>1</td>\n",
       "      <td>1</td>\n",
       "      <td>43</td>\n",
       "      <td>101.10</td>\n",
       "      <td>Doctor</td>\n",
       "      <td>274.570000</td>\n",
       "      <td>2.90</td>\n",
       "      <td>0</td>\n",
       "      <td>9</td>\n",
       "    </tr>\n",
       "  </tbody>\n",
       "</table>\n",
       "<p>256031 rows × 13 columns</p>\n",
       "</div>"
      ],
      "text/plain": [
       "       gender  antivirus  multirum  tv_paket  is_active_jan_2018  \\\n",
       "0           F          1         0         1                   1   \n",
       "1           M          1         0         1                   1   \n",
       "2           F          0         0         0                   1   \n",
       "3           M          0         0         0                   1   \n",
       "4           F          0         0         0                   1   \n",
       "...       ...        ...       ...       ...                 ...   \n",
       "256026      F          0         1         0                   1   \n",
       "256027      M          1         1         1                   0   \n",
       "256028      M          0         1         1                   1   \n",
       "256029      F          0         0         0                   1   \n",
       "256030      F          0         0         1                   1   \n",
       "\n",
       "        is_active_jan_2019  months_active_on_jan_2019  avg_revenue_per_month  \\\n",
       "0                        1                         44                1216.55   \n",
       "1                        1                         58                 218.00   \n",
       "2                        1                         66                 545.09   \n",
       "3                        1                         35                 499.92   \n",
       "4                        0                          0                  59.39   \n",
       "...                    ...                        ...                    ...   \n",
       "256026                   1                         56                 434.78   \n",
       "256027                   1                         61                 134.10   \n",
       "256028                   0                          0                 926.33   \n",
       "256029                   1                         50                 155.37   \n",
       "256030                   1                         43                 101.10   \n",
       "\n",
       "       profession  gb_incoming_outgoung  tv_hours_per_day  \\\n",
       "0         Student             56.820000              5.09   \n",
       "1          Artist           1045.570000              5.23   \n",
       "2         Retired            235.770000              0.00   \n",
       "3         Manager            543.144975              0.00   \n",
       "4         Retired            485.420000              0.00   \n",
       "...           ...                   ...               ...   \n",
       "256026    Retired            619.885024              0.00   \n",
       "256027    Retired            466.559493              2.05   \n",
       "256028    Teacher           1446.570000              3.68   \n",
       "256029    Retired            264.980000              0.00   \n",
       "256030     Doctor            274.570000              2.90   \n",
       "\n",
       "        virus_count_per_year  num_of_support_interactions  \n",
       "0                          6                            6  \n",
       "1                          3                            6  \n",
       "2                          0                            9  \n",
       "3                          0                            6  \n",
       "4                          0                            3  \n",
       "...                      ...                          ...  \n",
       "256026                     0                            5  \n",
       "256027                     3                            0  \n",
       "256028                     0                            3  \n",
       "256029                     0                            9  \n",
       "256030                     0                            9  \n",
       "\n",
       "[256031 rows x 13 columns]"
      ]
     },
     "execution_count": 2,
     "metadata": {},
     "output_type": "execute_result"
    }
   ],
   "source": [
    "df = pd.read_csv('/kaggle/input/lesson2/training.csv')\n",
    "del df['Unnamed: 0']\n",
    "df"
   ]
  },
  {
   "cell_type": "code",
   "execution_count": 3,
   "id": "5468aa98",
   "metadata": {
    "execution": {
     "iopub.execute_input": "2025-08-08T15:27:45.902843Z",
     "iopub.status.busy": "2025-08-08T15:27:45.902479Z",
     "iopub.status.idle": "2025-08-08T15:27:46.044156Z",
     "shell.execute_reply": "2025-08-08T15:27:46.043115Z"
    },
    "papermill": {
     "duration": 0.15344,
     "end_time": "2025-08-08T15:27:46.045618",
     "exception": false,
     "start_time": "2025-08-08T15:27:45.892178",
     "status": "completed"
    },
    "tags": []
   },
   "outputs": [
    {
     "data": {
      "text/html": [
       "<div>\n",
       "<style scoped>\n",
       "    .dataframe tbody tr th:only-of-type {\n",
       "        vertical-align: middle;\n",
       "    }\n",
       "\n",
       "    .dataframe tbody tr th {\n",
       "        vertical-align: top;\n",
       "    }\n",
       "\n",
       "    .dataframe thead th {\n",
       "        text-align: right;\n",
       "    }\n",
       "</style>\n",
       "<table border=\"1\" class=\"dataframe\">\n",
       "  <thead>\n",
       "    <tr style=\"text-align: right;\">\n",
       "      <th></th>\n",
       "      <th>antivirus</th>\n",
       "      <th>multirum</th>\n",
       "      <th>tv_paket</th>\n",
       "      <th>is_active_jan_2018</th>\n",
       "      <th>is_active_jan_2019</th>\n",
       "      <th>months_active_on_jan_2019</th>\n",
       "      <th>avg_revenue_per_month</th>\n",
       "      <th>gb_incoming_outgoung</th>\n",
       "      <th>tv_hours_per_day</th>\n",
       "      <th>virus_count_per_year</th>\n",
       "      <th>num_of_support_interactions</th>\n",
       "    </tr>\n",
       "  </thead>\n",
       "  <tbody>\n",
       "    <tr>\n",
       "      <th>count</th>\n",
       "      <td>256031.000000</td>\n",
       "      <td>256031.000000</td>\n",
       "      <td>256031.000000</td>\n",
       "      <td>256031.000000</td>\n",
       "      <td>256031.000000</td>\n",
       "      <td>256031.000000</td>\n",
       "      <td>256031.000000</td>\n",
       "      <td>256031.000000</td>\n",
       "      <td>256031.000000</td>\n",
       "      <td>256031.000000</td>\n",
       "      <td>256031.000000</td>\n",
       "    </tr>\n",
       "    <tr>\n",
       "      <th>mean</th>\n",
       "      <td>0.601083</td>\n",
       "      <td>0.499209</td>\n",
       "      <td>0.402088</td>\n",
       "      <td>0.949975</td>\n",
       "      <td>0.768094</td>\n",
       "      <td>385.595389</td>\n",
       "      <td>514.083129</td>\n",
       "      <td>681.725715</td>\n",
       "      <td>1.608682</td>\n",
       "      <td>3.617160</td>\n",
       "      <td>4.820947</td>\n",
       "    </tr>\n",
       "    <tr>\n",
       "      <th>std</th>\n",
       "      <td>0.489676</td>\n",
       "      <td>0.500000</td>\n",
       "      <td>0.490320</td>\n",
       "      <td>0.217997</td>\n",
       "      <td>0.422050</td>\n",
       "      <td>1844.131347</td>\n",
       "      <td>1275.326103</td>\n",
       "      <td>729.644282</td>\n",
       "      <td>2.060977</td>\n",
       "      <td>4.131541</td>\n",
       "      <td>2.572850</td>\n",
       "    </tr>\n",
       "    <tr>\n",
       "      <th>min</th>\n",
       "      <td>0.000000</td>\n",
       "      <td>0.000000</td>\n",
       "      <td>0.000000</td>\n",
       "      <td>0.000000</td>\n",
       "      <td>0.000000</td>\n",
       "      <td>-999.000000</td>\n",
       "      <td>-5000.000000</td>\n",
       "      <td>0.000000</td>\n",
       "      <td>0.000000</td>\n",
       "      <td>0.000000</td>\n",
       "      <td>0.000000</td>\n",
       "    </tr>\n",
       "    <tr>\n",
       "      <th>25%</th>\n",
       "      <td>0.000000</td>\n",
       "      <td>0.000000</td>\n",
       "      <td>0.000000</td>\n",
       "      <td>1.000000</td>\n",
       "      <td>1.000000</td>\n",
       "      <td>19.000000</td>\n",
       "      <td>173.580000</td>\n",
       "      <td>180.680000</td>\n",
       "      <td>0.000000</td>\n",
       "      <td>0.000000</td>\n",
       "      <td>3.000000</td>\n",
       "    </tr>\n",
       "    <tr>\n",
       "      <th>50%</th>\n",
       "      <td>1.000000</td>\n",
       "      <td>0.000000</td>\n",
       "      <td>0.000000</td>\n",
       "      <td>1.000000</td>\n",
       "      <td>1.000000</td>\n",
       "      <td>45.000000</td>\n",
       "      <td>459.750000</td>\n",
       "      <td>463.050000</td>\n",
       "      <td>0.000000</td>\n",
       "      <td>2.000000</td>\n",
       "      <td>5.000000</td>\n",
       "    </tr>\n",
       "    <tr>\n",
       "      <th>75%</th>\n",
       "      <td>1.000000</td>\n",
       "      <td>1.000000</td>\n",
       "      <td>1.000000</td>\n",
       "      <td>1.000000</td>\n",
       "      <td>1.000000</td>\n",
       "      <td>59.000000</td>\n",
       "      <td>957.315000</td>\n",
       "      <td>925.215000</td>\n",
       "      <td>3.690000</td>\n",
       "      <td>7.000000</td>\n",
       "      <td>7.000000</td>\n",
       "    </tr>\n",
       "    <tr>\n",
       "      <th>max</th>\n",
       "      <td>1.000000</td>\n",
       "      <td>1.000000</td>\n",
       "      <td>1.000000</td>\n",
       "      <td>1.000000</td>\n",
       "      <td>1.000000</td>\n",
       "      <td>10000.000000</td>\n",
       "      <td>10310.180000</td>\n",
       "      <td>12960.510000</td>\n",
       "      <td>8.090000</td>\n",
       "      <td>12.000000</td>\n",
       "      <td>10.000000</td>\n",
       "    </tr>\n",
       "  </tbody>\n",
       "</table>\n",
       "</div>"
      ],
      "text/plain": [
       "           antivirus       multirum       tv_paket  is_active_jan_2018  \\\n",
       "count  256031.000000  256031.000000  256031.000000       256031.000000   \n",
       "mean        0.601083       0.499209       0.402088            0.949975   \n",
       "std         0.489676       0.500000       0.490320            0.217997   \n",
       "min         0.000000       0.000000       0.000000            0.000000   \n",
       "25%         0.000000       0.000000       0.000000            1.000000   \n",
       "50%         1.000000       0.000000       0.000000            1.000000   \n",
       "75%         1.000000       1.000000       1.000000            1.000000   \n",
       "max         1.000000       1.000000       1.000000            1.000000   \n",
       "\n",
       "       is_active_jan_2019  months_active_on_jan_2019  avg_revenue_per_month  \\\n",
       "count       256031.000000              256031.000000          256031.000000   \n",
       "mean             0.768094                 385.595389             514.083129   \n",
       "std              0.422050                1844.131347            1275.326103   \n",
       "min              0.000000                -999.000000           -5000.000000   \n",
       "25%              1.000000                  19.000000             173.580000   \n",
       "50%              1.000000                  45.000000             459.750000   \n",
       "75%              1.000000                  59.000000             957.315000   \n",
       "max              1.000000               10000.000000           10310.180000   \n",
       "\n",
       "       gb_incoming_outgoung  tv_hours_per_day  virus_count_per_year  \\\n",
       "count         256031.000000     256031.000000         256031.000000   \n",
       "mean             681.725715          1.608682              3.617160   \n",
       "std              729.644282          2.060977              4.131541   \n",
       "min                0.000000          0.000000              0.000000   \n",
       "25%              180.680000          0.000000              0.000000   \n",
       "50%              463.050000          0.000000              2.000000   \n",
       "75%              925.215000          3.690000              7.000000   \n",
       "max            12960.510000          8.090000             12.000000   \n",
       "\n",
       "       num_of_support_interactions  \n",
       "count                256031.000000  \n",
       "mean                      4.820947  \n",
       "std                       2.572850  \n",
       "min                       0.000000  \n",
       "25%                       3.000000  \n",
       "50%                       5.000000  \n",
       "75%                       7.000000  \n",
       "max                      10.000000  "
      ]
     },
     "execution_count": 3,
     "metadata": {},
     "output_type": "execute_result"
    }
   ],
   "source": [
    "df.describe()"
   ]
  },
  {
   "cell_type": "code",
   "execution_count": 4,
   "id": "68cf3066",
   "metadata": {
    "execution": {
     "iopub.execute_input": "2025-08-08T15:27:46.064495Z",
     "iopub.status.busy": "2025-08-08T15:27:46.064162Z",
     "iopub.status.idle": "2025-08-08T15:27:46.114640Z",
     "shell.execute_reply": "2025-08-08T15:27:46.113630Z"
    },
    "papermill": {
     "duration": 0.062121,
     "end_time": "2025-08-08T15:27:46.116439",
     "exception": false,
     "start_time": "2025-08-08T15:27:46.054318",
     "status": "completed"
    },
    "tags": []
   },
   "outputs": [
    {
     "name": "stdout",
     "output_type": "stream",
     "text": [
      "<class 'pandas.core.frame.DataFrame'>\n",
      "RangeIndex: 256031 entries, 0 to 256030\n",
      "Data columns (total 13 columns):\n",
      " #   Column                       Non-Null Count   Dtype  \n",
      "---  ------                       --------------   -----  \n",
      " 0   gender                       226383 non-null  object \n",
      " 1   antivirus                    256031 non-null  int64  \n",
      " 2   multirum                     256031 non-null  int64  \n",
      " 3   tv_paket                     256031 non-null  int64  \n",
      " 4   is_active_jan_2018           256031 non-null  int64  \n",
      " 5   is_active_jan_2019           256031 non-null  int64  \n",
      " 6   months_active_on_jan_2019    256031 non-null  int64  \n",
      " 7   avg_revenue_per_month        256031 non-null  float64\n",
      " 8   profession                   256031 non-null  object \n",
      " 9   gb_incoming_outgoung         256031 non-null  float64\n",
      " 10  tv_hours_per_day             256031 non-null  float64\n",
      " 11  virus_count_per_year         256031 non-null  int64  \n",
      " 12  num_of_support_interactions  256031 non-null  int64  \n",
      "dtypes: float64(3), int64(8), object(2)\n",
      "memory usage: 25.4+ MB\n"
     ]
    }
   ],
   "source": [
    "df.info()"
   ]
  },
  {
   "cell_type": "markdown",
   "id": "9c5fc3a6",
   "metadata": {
    "papermill": {
     "duration": 0.008304,
     "end_time": "2025-08-08T15:27:46.133583",
     "exception": false,
     "start_time": "2025-08-08T15:27:46.125279",
     "status": "completed"
    },
    "tags": []
   },
   "source": [
    "We see that [antivirus, multirum, tv_paket, is_active_jan_2018, is_active_jan_2019] have only 0 and 1.\n",
    "\n",
    "We also don't have columns with identical values in all rows, because we don't have std 0 anywhere.\n",
    "\n",
    "We see that [months_active_on_jan_2019, avg_revenue_per_month, gb_incoming_outgoung] have outliers because std differs significantly from mean.\n",
    "\n",
    "Plus, you can't really have -999 months and 10000 months because that would mean a client used internet for a thousand years. We can't have 12960 gb for the same money other people have 100 gb for. We can't have -5000 revenue or 10000 revenue for the same services other people pay 1000."
   ]
  },
  {
   "cell_type": "markdown",
   "id": "a441ca70",
   "metadata": {
    "papermill": {
     "duration": 0.008725,
     "end_time": "2025-08-08T15:27:46.151785",
     "exception": false,
     "start_time": "2025-08-08T15:27:46.143060",
     "status": "completed"
    },
    "tags": []
   },
   "source": [
    "We see that only [gender] has NaNs. So let's treat outliers, use a machinle learning model to predict NaNs in [gender] and do the analysis."
   ]
  },
  {
   "cell_type": "markdown",
   "id": "cbfc563c",
   "metadata": {
    "papermill": {
     "duration": 0.008136,
     "end_time": "2025-08-08T15:27:46.169022",
     "exception": false,
     "start_time": "2025-08-08T15:27:46.160886",
     "status": "completed"
    },
    "tags": []
   },
   "source": [
    "Four methods are used to find outliers, and each method applies to a certain type of data:\n",
    "\n",
    "Normally distributed data - Z-score.\n",
    "\n",
    "Skewed data - Interquartile range (IQR).\n",
    "\n",
    "High-dimensional data - Isolation Forest, LOF.\n",
    "\n",
    "Known expected range - Percentile method.\n",
    "\n",
    "Known expected range doesn't seem to be applicable here.\n",
    "\n",
    "High-dimensional data is when there are more rows than columns, not applicable here.\n",
    "\n",
    "But Isolation Forest and LOF could also be used to detect outliers.\n",
    "\n",
    "However, our dataset has outliers and so the data is skewed because of that.\n",
    "\n",
    "Let's visualize outliers, treat them, and then take a look at data distribution."
   ]
  },
  {
   "cell_type": "code",
   "execution_count": 5,
   "id": "98330939",
   "metadata": {
    "execution": {
     "iopub.execute_input": "2025-08-08T15:27:46.187314Z",
     "iopub.status.busy": "2025-08-08T15:27:46.186796Z",
     "iopub.status.idle": "2025-08-08T15:28:08.984129Z",
     "shell.execute_reply": "2025-08-08T15:28:08.983183Z"
    },
    "papermill": {
     "duration": 22.808474,
     "end_time": "2025-08-08T15:28:08.985867",
     "exception": false,
     "start_time": "2025-08-08T15:27:46.177393",
     "status": "completed"
    },
    "tags": []
   },
   "outputs": [
    {
     "name": "stderr",
     "output_type": "stream",
     "text": [
      "/usr/local/lib/python3.11/dist-packages/seaborn/_oldcore.py:1119: FutureWarning: use_inf_as_na option is deprecated and will be removed in a future version. Convert inf values to NaN before operating instead.\n",
      "  with pd.option_context('mode.use_inf_as_na', True):\n",
      "/usr/local/lib/python3.11/dist-packages/seaborn/_oldcore.py:1119: FutureWarning: use_inf_as_na option is deprecated and will be removed in a future version. Convert inf values to NaN before operating instead.\n",
      "  with pd.option_context('mode.use_inf_as_na', True):\n",
      "/usr/local/lib/python3.11/dist-packages/seaborn/_oldcore.py:1119: FutureWarning: use_inf_as_na option is deprecated and will be removed in a future version. Convert inf values to NaN before operating instead.\n",
      "  with pd.option_context('mode.use_inf_as_na', True):\n"
     ]
    },
    {
     "data": {
      "image/png": "[encoded data removed]",
      "text/plain": [
       "<Figure size 1800x500 with 3 Axes>"
      ]
     },
     "metadata": {},
     "output_type": "display_data"
    },
    {
     "data": {
      "image/png": "[encoded data removed]",
      "text/plain": [
       "<Figure size 1800x500 with 3 Axes>"
      ]
     },
     "metadata": {},
     "output_type": "display_data"
    },
    {
     "data": {
      "image/png": "[encoded data removed]",
      "text/plain": [
       "<Figure size 1800x500 with 3 Axes>"
      ]
     },
     "metadata": {},
     "output_type": "display_data"
    }
   ],
   "source": [
    "#Visualize outliers:\n",
    "import matplotlib.pyplot as plt\n",
    "import seaborn as sns\n",
    "import scipy.stats as stats\n",
    "for col in df[['months_active_on_jan_2019', 'avg_revenue_per_month', 'gb_incoming_outgoung']]:\n",
    "    fig, axes = plt.subplots(1, 3, figsize = (18, 5))\n",
    "    fig.suptitle(f\"{col}\", fontsize = 14)\n",
    "    sns.histplot(df[col], kde = True, ax = axes[0], stat = 'density')\n",
    "    axes[0].set_title(\"Histogram + KDE\")\n",
    "    stats.probplot(df[col], dist = 'norm', plot = axes[1])\n",
    "    axes[1].set_title(\"Q-Q plot\")\n",
    "    sns.boxplot(x = df[col], ax = axes[2])\n",
    "    axes[2].set_title(\"Box Plot: Outliers beyond whiskers\")"
   ]
  },
  {
   "cell_type": "code",
   "execution_count": 6,
   "id": "a9665738",
   "metadata": {
    "execution": {
     "iopub.execute_input": "2025-08-08T15:28:09.011678Z",
     "iopub.status.busy": "2025-08-08T15:28:09.011170Z",
     "iopub.status.idle": "2025-08-08T15:28:09.141325Z",
     "shell.execute_reply": "2025-08-08T15:28:09.139843Z"
    },
    "papermill": {
     "duration": 0.144906,
     "end_time": "2025-08-08T15:28:09.142974",
     "exception": false,
     "start_time": "2025-08-08T15:28:08.998068",
     "status": "completed"
    },
    "tags": []
   },
   "outputs": [
    {
     "name": "stdout",
     "output_type": "stream",
     "text": [
      "Values between -1000 and -900 occur 6020 times.\n",
      "Values between -900 and -800 occur 0 times.\n",
      "Values between -800 and -700 occur 0 times.\n",
      "Values between -700 and -600 occur 0 times.\n",
      "Values between -600 and -500 occur 0 times.\n",
      "Values between -500 and -400 occur 0 times.\n",
      "Values between -400 and -300 occur 0 times.\n",
      "Values between -300 and -200 occur 0 times.\n",
      "Values between -200 and -100 occur 0 times.\n",
      "Values between -100 and 0 occur 68 times.\n",
      "Values between 0 and 100 occur 234694 times.\n",
      "Values between 100 and 200 occur 87 times.\n",
      "Values between 200 and 300 occur 0 times.\n",
      "Values between 300 and 400 occur 0 times.\n",
      "Values between 400 and 500 occur 0 times.\n",
      "Values between 500 and 600 occur 0 times.\n",
      "Values between 600 and 700 occur 0 times.\n",
      "Values between 700 and 800 occur 0 times.\n",
      "Values between 800 and 900 occur 0 times.\n",
      "Values between 900 and 1000 occur 6201 times.\n",
      "Values between 1000 and 1100 occur 0 times.\n",
      "Values between 1100 and 1200 occur 0 times.\n",
      "Values between 1200 and 1300 occur 0 times.\n",
      "Values between 1300 and 1400 occur 0 times.\n",
      "Values between 1400 and 1500 occur 0 times.\n",
      "Values between 1500 and 1600 occur 0 times.\n",
      "Values between 1600 and 1700 occur 0 times.\n",
      "Values between 1700 and 1800 occur 0 times.\n",
      "Values between 1800 and 1900 occur 0 times.\n",
      "Values between 1900 and 2000 occur 0 times.\n",
      "Values between 2000 and 2100 occur 0 times.\n",
      "Values between 2100 and 2200 occur 0 times.\n",
      "Values between 2200 and 2300 occur 0 times.\n",
      "Values between 2300 and 2400 occur 0 times.\n",
      "Values between 2400 and 2500 occur 0 times.\n",
      "Values between 2500 and 2600 occur 0 times.\n",
      "Values between 2600 and 2700 occur 0 times.\n",
      "Values between 2700 and 2800 occur 0 times.\n",
      "Values between 2800 and 2900 occur 0 times.\n",
      "Values between 2900 and 3000 occur 0 times.\n",
      "Values between 3000 and 3100 occur 0 times.\n",
      "Values between 3100 and 3200 occur 0 times.\n",
      "Values between 3200 and 3300 occur 0 times.\n",
      "Values between 3300 and 3400 occur 0 times.\n",
      "Values between 3400 and 3500 occur 0 times.\n",
      "Values between 3500 and 3600 occur 0 times.\n",
      "Values between 3600 and 3700 occur 0 times.\n",
      "Values between 3700 and 3800 occur 0 times.\n",
      "Values between 3800 and 3900 occur 0 times.\n",
      "Values between 3900 and 4000 occur 0 times.\n",
      "Values between 4000 and 4100 occur 0 times.\n",
      "Values between 4100 and 4200 occur 0 times.\n",
      "Values between 4200 and 4300 occur 0 times.\n",
      "Values between 4300 and 4400 occur 0 times.\n",
      "Values between 4400 and 4500 occur 0 times.\n",
      "Values between 4500 and 4600 occur 0 times.\n",
      "Values between 4600 and 4700 occur 0 times.\n",
      "Values between 4700 and 4800 occur 0 times.\n",
      "Values between 4800 and 4900 occur 0 times.\n",
      "Values between 4900 and 5000 occur 0 times.\n",
      "Values between 5000 and 5100 occur 0 times.\n",
      "Values between 5100 and 5200 occur 0 times.\n",
      "Values between 5200 and 5300 occur 0 times.\n",
      "Values between 5300 and 5400 occur 0 times.\n",
      "Values between 5400 and 5500 occur 0 times.\n",
      "Values between 5500 and 5600 occur 0 times.\n",
      "Values between 5600 and 5700 occur 0 times.\n",
      "Values between 5700 and 5800 occur 0 times.\n",
      "Values between 5800 and 5900 occur 0 times.\n",
      "Values between 5900 and 6000 occur 0 times.\n",
      "Values between 6000 and 6100 occur 0 times.\n",
      "Values between 6100 and 6200 occur 0 times.\n",
      "Values between 6200 and 6300 occur 0 times.\n",
      "Values between 6300 and 6400 occur 0 times.\n",
      "Values between 6400 and 6500 occur 0 times.\n",
      "Values between 6500 and 6600 occur 0 times.\n",
      "Values between 6600 and 6700 occur 0 times.\n",
      "Values between 6700 and 6800 occur 0 times.\n",
      "Values between 6800 and 6900 occur 0 times.\n",
      "Values between 6900 and 7000 occur 0 times.\n",
      "Values between 7000 and 7100 occur 0 times.\n",
      "Values between 7100 and 7200 occur 0 times.\n",
      "Values between 7200 and 7300 occur 0 times.\n",
      "Values between 7300 and 7400 occur 0 times.\n",
      "Values between 7400 and 7500 occur 0 times.\n",
      "Values between 7500 and 7600 occur 0 times.\n",
      "Values between 7600 and 7700 occur 0 times.\n",
      "Values between 7700 and 7800 occur 0 times.\n",
      "Values between 7800 and 7900 occur 0 times.\n",
      "Values between 7900 and 8000 occur 0 times.\n",
      "Values between 8000 and 8100 occur 0 times.\n",
      "Values between 8100 and 8200 occur 0 times.\n",
      "Values between 8200 and 8300 occur 0 times.\n",
      "Values between 8300 and 8400 occur 0 times.\n",
      "Values between 8400 and 8500 occur 0 times.\n",
      "Values between 8500 and 8600 occur 0 times.\n",
      "Values between 8600 and 8700 occur 0 times.\n",
      "Values between 8700 and 8800 occur 0 times.\n",
      "Values between 8800 and 8900 occur 0 times.\n",
      "Values between 8900 and 9000 occur 0 times.\n",
      "Values between 9000 and 9100 occur 0 times.\n",
      "Values between 9100 and 9200 occur 0 times.\n",
      "Values between 9200 and 9300 occur 0 times.\n",
      "Values between 9300 and 9400 occur 0 times.\n",
      "Values between 9400 and 9500 occur 0 times.\n",
      "Values between 9500 and 9600 occur 0 times.\n",
      "Values between 9600 and 9700 occur 0 times.\n",
      "Values between 9700 and 9800 occur 0 times.\n",
      "Values between 9800 and 9900 occur 0 times.\n",
      "Values between 9900 and 10000 occur 0 times.\n",
      "Values between 10000 and 10100 occur 8961 times.\n"
     ]
    }
   ],
   "source": [
    "#Before getting rid of outliers, let's take a closer look at months:\n",
    "for i in range(-1000, 10001, 100):\n",
    "    count = ((df.months_active_on_jan_2019 >= i) & (df.months_active_on_jan_2019 < i + 100)).sum()\n",
    "    print(f\"Values between {i} and {i+100} occur {count} times.\")"
   ]
  },
  {
   "cell_type": "markdown",
   "id": "99a10a5b",
   "metadata": {
    "papermill": {
     "duration": 0.011829,
     "end_time": "2025-08-08T15:28:09.167311",
     "exception": false,
     "start_time": "2025-08-08T15:28:09.155482",
     "status": "completed"
    },
    "tags": []
   },
   "source": [
    "Here we see that:\n",
    "\n",
    "Values between -1000 and -900 occur 6020 times - which cannot be true.\n",
    "\n",
    "Values between -100 and 0 occur 68 times - which cannot be true.\n",
    "\n",
    "Values between 0 and 100 occur 234694 times - which could be true.\n",
    "\n",
    "Values between 100 and 200 occur 87 times - which could be true to a degree. I think the valid range is 0-120 months, which corresponds to 0 to 10 years. I need a closer look at 100-200 range.\n",
    "\n",
    "Values between 900 and 1000 occur 6201 times - which cannot be true.\n",
    "\n",
    "Values between 10000 and 10100 occur 8961 times - which cannot be true."
   ]
  },
  {
   "cell_type": "code",
   "execution_count": 7,
   "id": "59dda24f",
   "metadata": {
    "execution": {
     "iopub.execute_input": "2025-08-08T15:28:09.192699Z",
     "iopub.status.busy": "2025-08-08T15:28:09.192360Z",
     "iopub.status.idle": "2025-08-08T15:28:09.211373Z",
     "shell.execute_reply": "2025-08-08T15:28:09.210320Z"
    },
    "papermill": {
     "duration": 0.033647,
     "end_time": "2025-08-08T15:28:09.213105",
     "exception": false,
     "start_time": "2025-08-08T15:28:09.179458",
     "status": "completed"
    },
    "tags": []
   },
   "outputs": [
    {
     "name": "stdout",
     "output_type": "stream",
     "text": [
      "Values between 100 and 110 occured 79 times.\n",
      "Values between 110 and 120 occured 8 times.\n",
      "Values between 120 and 130 occured 0 times.\n",
      "Values between 130 and 140 occured 0 times.\n",
      "Values between 140 and 150 occured 0 times.\n",
      "Values between 150 and 160 occured 0 times.\n",
      "Values between 160 and 170 occured 0 times.\n",
      "Values between 170 and 180 occured 0 times.\n",
      "Values between 180 and 190 occured 0 times.\n",
      "Values between 190 and 200 occured 0 times.\n",
      "Values between 200 and 210 occured 0 times.\n"
     ]
    }
   ],
   "source": [
    "#take a closer look at 100-200 range:\n",
    "for i in range(100, 201, 10):\n",
    "    count = ((df.months_active_on_jan_2019 >= i) & (df.months_active_on_jan_2019 < i + 10)).sum()\n",
    "    print(f\"Values between {i} and {i+10} occured {count} times.\")"
   ]
  },
  {
   "cell_type": "markdown",
   "id": "3b405e87",
   "metadata": {
    "papermill": {
     "duration": 0.01156,
     "end_time": "2025-08-08T15:28:09.236735",
     "exception": false,
     "start_time": "2025-08-08T15:28:09.225175",
     "status": "completed"
    },
    "tags": []
   },
   "source": [
    "We see that valid range for [months_active_on_jan_2019] is indeed 0-120 months.\n",
    "\n",
    "Let's get rid of outliers.\n",
    "\n",
    "For [months_active_on_jan_2019] we impute with median every value outside of 0-120 range.\n",
    "\n",
    "For [avg_revenue_per_month, gb_incoming_outgoung] we'll use IQR, because it's a very skewed data."
   ]
  },
  {
   "cell_type": "code",
   "execution_count": 8,
   "id": "e433cbc4",
   "metadata": {
    "execution": {
     "iopub.execute_input": "2025-08-08T15:28:09.262403Z",
     "iopub.status.busy": "2025-08-08T15:28:09.261542Z",
     "iopub.status.idle": "2025-08-08T15:28:09.269038Z",
     "shell.execute_reply": "2025-08-08T15:28:09.268151Z"
    },
    "papermill": {
     "duration": 0.021775,
     "end_time": "2025-08-08T15:28:09.270635",
     "exception": false,
     "start_time": "2025-08-08T15:28:09.248860",
     "status": "completed"
    },
    "tags": []
   },
   "outputs": [],
   "source": [
    "#replace values outside 0-120 range with nan:\n",
    "df.months_active_on_jan_2019 = np.where((df.months_active_on_jan_2019 < 0) | (df.months_active_on_jan_2019 > 120),\n",
    "                                        np.nan, df.months_active_on_jan_2019)"
   ]
  },
  {
   "cell_type": "code",
   "execution_count": 9,
   "id": "b9dd4576",
   "metadata": {
    "execution": {
     "iopub.execute_input": "2025-08-08T15:28:09.296033Z",
     "iopub.status.busy": "2025-08-08T15:28:09.295737Z",
     "iopub.status.idle": "2025-08-08T15:28:09.302436Z",
     "shell.execute_reply": "2025-08-08T15:28:09.301571Z"
    },
    "papermill": {
     "duration": 0.021249,
     "end_time": "2025-08-08T15:28:09.303951",
     "exception": false,
     "start_time": "2025-08-08T15:28:09.282702",
     "status": "completed"
    },
    "tags": []
   },
   "outputs": [
    {
     "data": {
      "text/plain": [
       "21250"
      ]
     },
     "execution_count": 9,
     "metadata": {},
     "output_type": "execute_result"
    }
   ],
   "source": [
    "#control that outliers are replaced with nan:\n",
    "df.months_active_on_jan_2019.isna().sum()"
   ]
  },
  {
   "cell_type": "code",
   "execution_count": 10,
   "id": "894deef4",
   "metadata": {
    "execution": {
     "iopub.execute_input": "2025-08-08T15:28:09.329259Z",
     "iopub.status.busy": "2025-08-08T15:28:09.328954Z",
     "iopub.status.idle": "2025-08-08T15:28:09.339153Z",
     "shell.execute_reply": "2025-08-08T15:28:09.338140Z"
    },
    "papermill": {
     "duration": 0.024761,
     "end_time": "2025-08-08T15:28:09.340860",
     "exception": false,
     "start_time": "2025-08-08T15:28:09.316099",
     "status": "completed"
    },
    "tags": []
   },
   "outputs": [],
   "source": [
    "#replace nans with outliers:\n",
    "df.months_active_on_jan_2019 = df.months_active_on_jan_2019.fillna(df.months_active_on_jan_2019.median())"
   ]
  },
  {
   "cell_type": "code",
   "execution_count": 11,
   "id": "ac340544",
   "metadata": {
    "execution": {
     "iopub.execute_input": "2025-08-08T15:28:09.434108Z",
     "iopub.status.busy": "2025-08-08T15:28:09.433771Z",
     "iopub.status.idle": "2025-08-08T15:28:09.452829Z",
     "shell.execute_reply": "2025-08-08T15:28:09.452013Z"
    },
    "papermill": {
     "duration": 0.034805,
     "end_time": "2025-08-08T15:28:09.454480",
     "exception": false,
     "start_time": "2025-08-08T15:28:09.419675",
     "status": "completed"
    },
    "tags": []
   },
   "outputs": [
    {
     "data": {
      "text/plain": [
       "count    256031.000000\n",
       "mean         38.545543\n",
       "std          23.706102\n",
       "min           0.000000\n",
       "25%          25.000000\n",
       "50%          44.000000\n",
       "75%          55.000000\n",
       "max         119.000000\n",
       "Name: months_active_on_jan_2019, dtype: float64"
      ]
     },
     "execution_count": 11,
     "metadata": {},
     "output_type": "execute_result"
    }
   ],
   "source": [
    "#control that nans are replaced with outliers:\n",
    "df.months_active_on_jan_2019.describe()"
   ]
  },
  {
   "cell_type": "code",
   "execution_count": 12,
   "id": "0193b535",
   "metadata": {
    "execution": {
     "iopub.execute_input": "2025-08-08T15:28:09.480467Z",
     "iopub.status.busy": "2025-08-08T15:28:09.480175Z",
     "iopub.status.idle": "2025-08-08T15:28:10.025782Z",
     "shell.execute_reply": "2025-08-08T15:28:10.024882Z"
    },
    "papermill": {
     "duration": 0.560782,
     "end_time": "2025-08-08T15:28:10.027755",
     "exception": false,
     "start_time": "2025-08-08T15:28:09.466973",
     "status": "completed"
    },
    "tags": []
   },
   "outputs": [
    {
     "data": {
      "text/plain": [
       "<Axes: xlabel='months_active_on_jan_2019'>"
      ]
     },
     "execution_count": 12,
     "metadata": {},
     "output_type": "execute_result"
    },
    {
     "data": {
      "image/png": "[encoded data removed]",
      "text/plain": [
       "<Figure size 640x480 with 1 Axes>"
      ]
     },
     "metadata": {},
     "output_type": "display_data"
    }
   ],
   "source": [
    "#visual control of df.months_active_on_jan_2019:\n",
    "sns.boxplot(x = df.months_active_on_jan_2019)"
   ]
  },
  {
   "cell_type": "code",
   "execution_count": 13,
   "id": "c4bb8e57",
   "metadata": {
    "execution": {
     "iopub.execute_input": "2025-08-08T15:28:10.056825Z",
     "iopub.status.busy": "2025-08-08T15:28:10.056501Z",
     "iopub.status.idle": "2025-08-08T15:28:10.082471Z",
     "shell.execute_reply": "2025-08-08T15:28:10.081403Z"
    },
    "papermill": {
     "duration": 0.042345,
     "end_time": "2025-08-08T15:28:10.084036",
     "exception": false,
     "start_time": "2025-08-08T15:28:10.041691",
     "status": "completed"
    },
    "tags": []
   },
   "outputs": [
    {
     "name": "stdout",
     "output_type": "stream",
     "text": [
      "Values between 0 and 10 occured 55062 times, and total is 55062.\n",
      "Values between 10 and 20 occured 3374 times, and total is 58436.\n",
      "Values between 20 and 30 occured 12404 times, and total is 70840.\n",
      "Values between 30 and 40 occured 29262 times, and total is 100102.\n",
      "Values between 40 and 50 occured 65705 times, and total is 165807.\n",
      "Values between 50 and 60 occured 44562 times, and total is 210369.\n",
      "Values between 60 and 70 occured 29134 times, and total is 239503.\n",
      "Values between 70 and 80 occured 12298 times, and total is 251801.\n",
      "Values between 80 and 90 occured 3515 times, and total is 255316.\n",
      "Values between 90 and 100 occured 628 times, and total is 255944.\n",
      "Values between 100 and 110 occured 79 times, and total is 256023.\n",
      "Values between 110 and 120 occured 8 times, and total is 256031.\n",
      "Values between 120 and 130 occured 0 times, and total is 256031.\n"
     ]
    }
   ],
   "source": [
    "#control that outliers are replaced:\n",
    "tot = 0\n",
    "for i in range(0, 121, 10):\n",
    "    count = ((df.months_active_on_jan_2019 >= i) & (df.months_active_on_jan_2019 < i + 10)).sum()\n",
    "    tot += count\n",
    "    print(f\"Values between {i} and {i+10} occured {count} times, and total is {tot}.\")"
   ]
  },
  {
   "cell_type": "code",
   "execution_count": 14,
   "id": "b0855771",
   "metadata": {
    "execution": {
     "iopub.execute_input": "2025-08-08T15:28:10.110724Z",
     "iopub.status.busy": "2025-08-08T15:28:10.110375Z",
     "iopub.status.idle": "2025-08-08T15:28:10.149070Z",
     "shell.execute_reply": "2025-08-08T15:28:10.148099Z"
    },
    "papermill": {
     "duration": 0.053893,
     "end_time": "2025-08-08T15:28:10.150743",
     "exception": false,
     "start_time": "2025-08-08T15:28:10.096850",
     "status": "completed"
    },
    "tags": []
   },
   "outputs": [
    {
     "data": {
      "text/html": [
       "<div>\n",
       "<style scoped>\n",
       "    .dataframe tbody tr th:only-of-type {\n",
       "        vertical-align: middle;\n",
       "    }\n",
       "\n",
       "    .dataframe tbody tr th {\n",
       "        vertical-align: top;\n",
       "    }\n",
       "\n",
       "    .dataframe thead th {\n",
       "        text-align: right;\n",
       "    }\n",
       "</style>\n",
       "<table border=\"1\" class=\"dataframe\">\n",
       "  <thead>\n",
       "    <tr style=\"text-align: right;\">\n",
       "      <th></th>\n",
       "      <th>avg_revenue_per_month</th>\n",
       "      <th>gb_incoming_outgoung</th>\n",
       "    </tr>\n",
       "  </thead>\n",
       "  <tbody>\n",
       "    <tr>\n",
       "      <th>count</th>\n",
       "      <td>256031.000000</td>\n",
       "      <td>256031.000000</td>\n",
       "    </tr>\n",
       "    <tr>\n",
       "      <th>mean</th>\n",
       "      <td>514.083129</td>\n",
       "      <td>681.725715</td>\n",
       "    </tr>\n",
       "    <tr>\n",
       "      <th>std</th>\n",
       "      <td>1275.326103</td>\n",
       "      <td>729.644282</td>\n",
       "    </tr>\n",
       "    <tr>\n",
       "      <th>min</th>\n",
       "      <td>-5000.000000</td>\n",
       "      <td>0.000000</td>\n",
       "    </tr>\n",
       "    <tr>\n",
       "      <th>25%</th>\n",
       "      <td>173.580000</td>\n",
       "      <td>180.680000</td>\n",
       "    </tr>\n",
       "    <tr>\n",
       "      <th>50%</th>\n",
       "      <td>459.750000</td>\n",
       "      <td>463.050000</td>\n",
       "    </tr>\n",
       "    <tr>\n",
       "      <th>75%</th>\n",
       "      <td>957.315000</td>\n",
       "      <td>925.215000</td>\n",
       "    </tr>\n",
       "    <tr>\n",
       "      <th>max</th>\n",
       "      <td>10310.180000</td>\n",
       "      <td>12960.510000</td>\n",
       "    </tr>\n",
       "  </tbody>\n",
       "</table>\n",
       "</div>"
      ],
      "text/plain": [
       "       avg_revenue_per_month  gb_incoming_outgoung\n",
       "count          256031.000000         256031.000000\n",
       "mean              514.083129            681.725715\n",
       "std              1275.326103            729.644282\n",
       "min             -5000.000000              0.000000\n",
       "25%               173.580000            180.680000\n",
       "50%               459.750000            463.050000\n",
       "75%               957.315000            925.215000\n",
       "max             10310.180000          12960.510000"
      ]
     },
     "execution_count": 14,
     "metadata": {},
     "output_type": "execute_result"
    }
   ],
   "source": [
    "df[['avg_revenue_per_month', 'gb_incoming_outgoung']].describe()"
   ]
  },
  {
   "cell_type": "code",
   "execution_count": 15,
   "id": "953f408e",
   "metadata": {
    "execution": {
     "iopub.execute_input": "2025-08-08T15:28:10.178202Z",
     "iopub.status.busy": "2025-08-08T15:28:10.177869Z",
     "iopub.status.idle": "2025-08-08T15:28:10.212781Z",
     "shell.execute_reply": "2025-08-08T15:28:10.211891Z"
    },
    "papermill": {
     "duration": 0.050314,
     "end_time": "2025-08-08T15:28:10.214447",
     "exception": false,
     "start_time": "2025-08-08T15:28:10.164133",
     "status": "completed"
    },
    "tags": []
   },
   "outputs": [],
   "source": [
    "for col in df[['avg_revenue_per_month', 'gb_incoming_outgoung']]:\n",
    "    q1 = df[col].quantile(0.25)\n",
    "    q3 = df[col].quantile(0.75)\n",
    "    iqr = q3 - q1\n",
    "    l = q1 - 1.5 * iqr\n",
    "    u = q3 + 1.5 * iqr\n",
    "    df[col] = np.where( (df[col] < l) | (df[col] > u), np.nan, df[col] )"
   ]
  },
  {
   "cell_type": "code",
   "execution_count": 16,
   "id": "524b9914",
   "metadata": {
    "execution": {
     "iopub.execute_input": "2025-08-08T15:28:10.242639Z",
     "iopub.status.busy": "2025-08-08T15:28:10.241873Z",
     "iopub.status.idle": "2025-08-08T15:28:10.285733Z",
     "shell.execute_reply": "2025-08-08T15:28:10.284699Z"
    },
    "papermill": {
     "duration": 0.059232,
     "end_time": "2025-08-08T15:28:10.287404",
     "exception": false,
     "start_time": "2025-08-08T15:28:10.228172",
     "status": "completed"
    },
    "tags": []
   },
   "outputs": [
    {
     "data": {
      "text/html": [
       "<div>\n",
       "<style scoped>\n",
       "    .dataframe tbody tr th:only-of-type {\n",
       "        vertical-align: middle;\n",
       "    }\n",
       "\n",
       "    .dataframe tbody tr th {\n",
       "        vertical-align: top;\n",
       "    }\n",
       "\n",
       "    .dataframe thead th {\n",
       "        text-align: right;\n",
       "    }\n",
       "</style>\n",
       "<table border=\"1\" class=\"dataframe\">\n",
       "  <thead>\n",
       "    <tr style=\"text-align: right;\">\n",
       "      <th></th>\n",
       "      <th>avg_revenue_per_month</th>\n",
       "      <th>gb_incoming_outgoung</th>\n",
       "    </tr>\n",
       "  </thead>\n",
       "  <tbody>\n",
       "    <tr>\n",
       "      <th>count</th>\n",
       "      <td>234189.000000</td>\n",
       "      <td>241767.000000</td>\n",
       "    </tr>\n",
       "    <tr>\n",
       "      <th>mean</th>\n",
       "      <td>592.927717</td>\n",
       "      <td>554.570627</td>\n",
       "    </tr>\n",
       "    <tr>\n",
       "      <th>std</th>\n",
       "      <td>505.745358</td>\n",
       "      <td>482.637660</td>\n",
       "    </tr>\n",
       "    <tr>\n",
       "      <th>min</th>\n",
       "      <td>0.000000</td>\n",
       "      <td>0.000000</td>\n",
       "    </tr>\n",
       "    <tr>\n",
       "      <th>25%</th>\n",
       "      <td>186.400000</td>\n",
       "      <td>167.690000</td>\n",
       "    </tr>\n",
       "    <tr>\n",
       "      <th>50%</th>\n",
       "      <td>449.050000</td>\n",
       "      <td>429.190000</td>\n",
       "    </tr>\n",
       "    <tr>\n",
       "      <th>75%</th>\n",
       "      <td>877.100000</td>\n",
       "      <td>814.130000</td>\n",
       "    </tr>\n",
       "    <tr>\n",
       "      <th>max</th>\n",
       "      <td>2132.810000</td>\n",
       "      <td>2041.920000</td>\n",
       "    </tr>\n",
       "  </tbody>\n",
       "</table>\n",
       "</div>"
      ],
      "text/plain": [
       "       avg_revenue_per_month  gb_incoming_outgoung\n",
       "count          234189.000000         241767.000000\n",
       "mean              592.927717            554.570627\n",
       "std               505.745358            482.637660\n",
       "min                 0.000000              0.000000\n",
       "25%               186.400000            167.690000\n",
       "50%               449.050000            429.190000\n",
       "75%               877.100000            814.130000\n",
       "max              2132.810000           2041.920000"
      ]
     },
     "execution_count": 16,
     "metadata": {},
     "output_type": "execute_result"
    }
   ],
   "source": [
    "df[['avg_revenue_per_month', 'gb_incoming_outgoung']].describe()"
   ]
  },
  {
   "cell_type": "code",
   "execution_count": 17,
   "id": "6efd5df1",
   "metadata": {
    "execution": {
     "iopub.execute_input": "2025-08-08T15:28:10.315056Z",
     "iopub.status.busy": "2025-08-08T15:28:10.314593Z",
     "iopub.status.idle": "2025-08-08T15:28:10.333534Z",
     "shell.execute_reply": "2025-08-08T15:28:10.332769Z"
    },
    "papermill": {
     "duration": 0.034586,
     "end_time": "2025-08-08T15:28:10.335177",
     "exception": false,
     "start_time": "2025-08-08T15:28:10.300591",
     "status": "completed"
    },
    "tags": []
   },
   "outputs": [],
   "source": [
    "for col in df[['avg_revenue_per_month', 'gb_incoming_outgoung']]:\n",
    "    df[col] = df[col].fillna(df[col].median())"
   ]
  },
  {
   "cell_type": "code",
   "execution_count": 18,
   "id": "ad3c843c",
   "metadata": {
    "execution": {
     "iopub.execute_input": "2025-08-08T15:28:10.364400Z",
     "iopub.status.busy": "2025-08-08T15:28:10.364073Z",
     "iopub.status.idle": "2025-08-08T15:28:10.404150Z",
     "shell.execute_reply": "2025-08-08T15:28:10.402982Z"
    },
    "papermill": {
     "duration": 0.057937,
     "end_time": "2025-08-08T15:28:10.406094",
     "exception": false,
     "start_time": "2025-08-08T15:28:10.348157",
     "status": "completed"
    },
    "tags": []
   },
   "outputs": [
    {
     "data": {
      "text/html": [
       "<div>\n",
       "<style scoped>\n",
       "    .dataframe tbody tr th:only-of-type {\n",
       "        vertical-align: middle;\n",
       "    }\n",
       "\n",
       "    .dataframe tbody tr th {\n",
       "        vertical-align: top;\n",
       "    }\n",
       "\n",
       "    .dataframe thead th {\n",
       "        text-align: right;\n",
       "    }\n",
       "</style>\n",
       "<table border=\"1\" class=\"dataframe\">\n",
       "  <thead>\n",
       "    <tr style=\"text-align: right;\">\n",
       "      <th></th>\n",
       "      <th>avg_revenue_per_month</th>\n",
       "      <th>gb_incoming_outgoung</th>\n",
       "    </tr>\n",
       "  </thead>\n",
       "  <tbody>\n",
       "    <tr>\n",
       "      <th>count</th>\n",
       "      <td>256031.000000</td>\n",
       "      <td>256031.000000</td>\n",
       "    </tr>\n",
       "    <tr>\n",
       "      <th>mean</th>\n",
       "      <td>580.653512</td>\n",
       "      <td>547.585421</td>\n",
       "    </tr>\n",
       "    <tr>\n",
       "      <th>std</th>\n",
       "      <td>485.358804</td>\n",
       "      <td>469.881448</td>\n",
       "    </tr>\n",
       "    <tr>\n",
       "      <th>min</th>\n",
       "      <td>0.000000</td>\n",
       "      <td>0.000000</td>\n",
       "    </tr>\n",
       "    <tr>\n",
       "      <th>25%</th>\n",
       "      <td>207.245000</td>\n",
       "      <td>180.680000</td>\n",
       "    </tr>\n",
       "    <tr>\n",
       "      <th>50%</th>\n",
       "      <td>449.050000</td>\n",
       "      <td>429.190000</td>\n",
       "    </tr>\n",
       "    <tr>\n",
       "      <th>75%</th>\n",
       "      <td>823.930000</td>\n",
       "      <td>781.080000</td>\n",
       "    </tr>\n",
       "    <tr>\n",
       "      <th>max</th>\n",
       "      <td>2132.810000</td>\n",
       "      <td>2041.920000</td>\n",
       "    </tr>\n",
       "  </tbody>\n",
       "</table>\n",
       "</div>"
      ],
      "text/plain": [
       "       avg_revenue_per_month  gb_incoming_outgoung\n",
       "count          256031.000000         256031.000000\n",
       "mean              580.653512            547.585421\n",
       "std               485.358804            469.881448\n",
       "min                 0.000000              0.000000\n",
       "25%               207.245000            180.680000\n",
       "50%               449.050000            429.190000\n",
       "75%               823.930000            781.080000\n",
       "max              2132.810000           2041.920000"
      ]
     },
     "execution_count": 18,
     "metadata": {},
     "output_type": "execute_result"
    }
   ],
   "source": [
    "df[['avg_revenue_per_month', 'gb_incoming_outgoung']].describe()"
   ]
  },
  {
   "cell_type": "code",
   "execution_count": 19,
   "id": "352ff614",
   "metadata": {
    "execution": {
     "iopub.execute_input": "2025-08-08T15:28:10.435274Z",
     "iopub.status.busy": "2025-08-08T15:28:10.434896Z",
     "iopub.status.idle": "2025-08-08T15:28:19.044507Z",
     "shell.execute_reply": "2025-08-08T15:28:19.043183Z"
    },
    "papermill": {
     "duration": 8.626255,
     "end_time": "2025-08-08T15:28:19.046634",
     "exception": false,
     "start_time": "2025-08-08T15:28:10.420379",
     "status": "completed"
    },
    "tags": []
   },
   "outputs": [
    {
     "name": "stderr",
     "output_type": "stream",
     "text": [
      "/usr/local/lib/python3.11/dist-packages/seaborn/_oldcore.py:1119: FutureWarning: use_inf_as_na option is deprecated and will be removed in a future version. Convert inf values to NaN before operating instead.\n",
      "  with pd.option_context('mode.use_inf_as_na', True):\n",
      "/usr/local/lib/python3.11/dist-packages/seaborn/_oldcore.py:1119: FutureWarning: use_inf_as_na option is deprecated and will be removed in a future version. Convert inf values to NaN before operating instead.\n",
      "  with pd.option_context('mode.use_inf_as_na', True):\n",
      "/usr/local/lib/python3.11/dist-packages/seaborn/_oldcore.py:1119: FutureWarning: use_inf_as_na option is deprecated and will be removed in a future version. Convert inf values to NaN before operating instead.\n",
      "  with pd.option_context('mode.use_inf_as_na', True):\n"
     ]
    },
    {
     "data": {
      "image/png": "[encoded data removed]",
      "text/plain": [
       "<Figure size 1800x500 with 3 Axes>"
      ]
     },
     "metadata": {},
     "output_type": "display_data"
    },
    {
     "data": {
      "image/png": "[encoded data removed]",
      "text/plain": [
       "<Figure size 1800x500 with 3 Axes>"
      ]
     },
     "metadata": {},
     "output_type": "display_data"
    },
    {
     "data": {
      "image/png": "[encoded data removed]",
      "text/plain": [
       "<Figure size 1800x500 with 3 Axes>"
      ]
     },
     "metadata": {},
     "output_type": "display_data"
    }
   ],
   "source": [
    "#Visual control after outlier treatment:\n",
    "for col in df[['months_active_on_jan_2019', 'avg_revenue_per_month', 'gb_incoming_outgoung']]:\n",
    "    fig, axes = plt.subplots(1, 3, figsize = (18, 5))\n",
    "    fig.suptitle(f\"Visualization of {col} after outlier treatment\", fontsize = 12)\n",
    "    sns.histplot(df[col], kde = True, ax = axes[0], stat = 'count')\n",
    "    axes[0].set_title(\"Histogram + KDE\")\n",
    "    stats.probplot(df[col], dist = 'norm', plot = axes[1])\n",
    "    axes[1].set_title('Q-Q plot')\n",
    "    sns.boxplot(x = df[col], ax = axes[2])\n",
    "    axes[2].set_title(\"Box Plot: Outliers beyond whiskers\")"
   ]
  },
  {
   "cell_type": "markdown",
   "id": "3997de6a",
   "metadata": {
    "papermill": {
     "duration": 0.017001,
     "end_time": "2025-08-08T15:28:19.081878",
     "exception": false,
     "start_time": "2025-08-08T15:28:19.064877",
     "status": "completed"
    },
    "tags": []
   },
   "source": [
    "This data does look comparatively better.\n",
    "Now, let's predict values for gender and do the analysis."
   ]
  },
  {
   "cell_type": "code",
   "execution_count": 20,
   "id": "e13e25ec",
   "metadata": {
    "execution": {
     "iopub.execute_input": "2025-08-08T15:28:19.118414Z",
     "iopub.status.busy": "2025-08-08T15:28:19.118077Z",
     "iopub.status.idle": "2025-08-08T15:28:19.326153Z",
     "shell.execute_reply": "2025-08-08T15:28:19.325296Z"
    },
    "papermill": {
     "duration": 0.228525,
     "end_time": "2025-08-08T15:28:19.327866",
     "exception": false,
     "start_time": "2025-08-08T15:28:19.099341",
     "status": "completed"
    },
    "tags": []
   },
   "outputs": [
    {
     "data": {
      "text/plain": [
       "<Axes: xlabel='gender'>"
      ]
     },
     "execution_count": 20,
     "metadata": {},
     "output_type": "execute_result"
    },
    {
     "data": {
      "image/png": "[encoded data removed]",
      "text/plain": [
       "<Figure size 640x480 with 1 Axes>"
      ]
     },
     "metadata": {},
     "output_type": "display_data"
    }
   ],
   "source": [
    "#Visualize gender:\n",
    "df.gender.value_counts(ascending = True).plot.bar()"
   ]
  },
  {
   "cell_type": "code",
   "execution_count": 21,
   "id": "eef84c01",
   "metadata": {
    "execution": {
     "iopub.execute_input": "2025-08-08T15:28:19.370000Z",
     "iopub.status.busy": "2025-08-08T15:28:19.369274Z",
     "iopub.status.idle": "2025-08-08T15:28:19.389531Z",
     "shell.execute_reply": "2025-08-08T15:28:19.388366Z"
    },
    "papermill": {
     "duration": 0.040421,
     "end_time": "2025-08-08T15:28:19.391434",
     "exception": false,
     "start_time": "2025-08-08T15:28:19.351013",
     "status": "completed"
    },
    "tags": []
   },
   "outputs": [
    {
     "data": {
      "text/plain": [
       "gender\n",
       "M      110934\n",
       "F      110825\n",
       "???      4624\n",
       "Name: count, dtype: int64"
      ]
     },
     "execution_count": 21,
     "metadata": {},
     "output_type": "execute_result"
    }
   ],
   "source": [
    "df.gender.value_counts()"
   ]
  },
  {
   "cell_type": "code",
   "execution_count": 22,
   "id": "e6e7a016",
   "metadata": {
    "execution": {
     "iopub.execute_input": "2025-08-08T15:28:19.432772Z",
     "iopub.status.busy": "2025-08-08T15:28:19.432448Z",
     "iopub.status.idle": "2025-08-08T15:28:19.443904Z",
     "shell.execute_reply": "2025-08-08T15:28:19.443104Z"
    },
    "papermill": {
     "duration": 0.03119,
     "end_time": "2025-08-08T15:28:19.445310",
     "exception": false,
     "start_time": "2025-08-08T15:28:19.414120",
     "status": "completed"
    },
    "tags": []
   },
   "outputs": [
    {
     "data": {
      "text/plain": [
       "array(['F', 'M', nan, '???'], dtype=object)"
      ]
     },
     "execution_count": 22,
     "metadata": {},
     "output_type": "execute_result"
    }
   ],
   "source": [
    "df.gender.unique()"
   ]
  },
  {
   "cell_type": "markdown",
   "id": "6d785de3",
   "metadata": {
    "papermill": {
     "duration": 0.017316,
     "end_time": "2025-08-08T15:28:19.480113",
     "exception": false,
     "start_time": "2025-08-08T15:28:19.462797",
     "status": "completed"
    },
    "tags": []
   },
   "source": [
    "So gender has errors in the form of \"???\" and missing values.\n",
    "\n",
    "First, replace errors with missing values."
   ]
  },
  {
   "cell_type": "code",
   "execution_count": 23,
   "id": "82dd2188",
   "metadata": {
    "execution": {
     "iopub.execute_input": "2025-08-08T15:28:19.516491Z",
     "iopub.status.busy": "2025-08-08T15:28:19.516200Z",
     "iopub.status.idle": "2025-08-08T15:28:19.536160Z",
     "shell.execute_reply": "2025-08-08T15:28:19.535226Z"
    },
    "papermill": {
     "duration": 0.040227,
     "end_time": "2025-08-08T15:28:19.538035",
     "exception": false,
     "start_time": "2025-08-08T15:28:19.497808",
     "status": "completed"
    },
    "tags": []
   },
   "outputs": [],
   "source": [
    "#Replace errors with nan:\n",
    "df.gender = np.where(df.gender.isin(['M', 'F']), df.gender, np.nan)"
   ]
  },
  {
   "cell_type": "code",
   "execution_count": 24,
   "id": "d04897e3",
   "metadata": {
    "execution": {
     "iopub.execute_input": "2025-08-08T15:28:19.584171Z",
     "iopub.status.busy": "2025-08-08T15:28:19.583240Z",
     "iopub.status.idle": "2025-08-08T15:28:19.596196Z",
     "shell.execute_reply": "2025-08-08T15:28:19.595331Z"
    },
    "papermill": {
     "duration": 0.033849,
     "end_time": "2025-08-08T15:28:19.597624",
     "exception": false,
     "start_time": "2025-08-08T15:28:19.563775",
     "status": "completed"
    },
    "tags": []
   },
   "outputs": [
    {
     "data": {
      "text/plain": [
       "array(['F', 'M', nan], dtype=object)"
      ]
     },
     "execution_count": 24,
     "metadata": {},
     "output_type": "execute_result"
    }
   ],
   "source": [
    "df.gender.unique()"
   ]
  },
  {
   "cell_type": "code",
   "execution_count": 25,
   "id": "915adb0d",
   "metadata": {
    "execution": {
     "iopub.execute_input": "2025-08-08T15:28:19.634851Z",
     "iopub.status.busy": "2025-08-08T15:28:19.634033Z",
     "iopub.status.idle": "2025-08-08T15:28:19.660879Z",
     "shell.execute_reply": "2025-08-08T15:28:19.660097Z"
    },
    "papermill": {
     "duration": 0.046972,
     "end_time": "2025-08-08T15:28:19.662391",
     "exception": false,
     "start_time": "2025-08-08T15:28:19.615419",
     "status": "completed"
    },
    "tags": []
   },
   "outputs": [
    {
     "data": {
      "text/plain": [
       "gender\n",
       "M    110934\n",
       "F    110825\n",
       "Name: count, dtype: int64"
      ]
     },
     "execution_count": 25,
     "metadata": {},
     "output_type": "execute_result"
    }
   ],
   "source": [
    "df.gender.value_counts()"
   ]
  },
  {
   "cell_type": "code",
   "execution_count": 26,
   "id": "7e8f1a02",
   "metadata": {
    "execution": {
     "iopub.execute_input": "2025-08-08T15:28:19.705495Z",
     "iopub.status.busy": "2025-08-08T15:28:19.705109Z",
     "iopub.status.idle": "2025-08-08T15:28:19.734943Z",
     "shell.execute_reply": "2025-08-08T15:28:19.734132Z"
    },
    "papermill": {
     "duration": 0.050024,
     "end_time": "2025-08-08T15:28:19.736260",
     "exception": false,
     "start_time": "2025-08-08T15:28:19.686236",
     "status": "completed"
    },
    "tags": []
   },
   "outputs": [
    {
     "data": {
      "text/plain": [
       "34272"
      ]
     },
     "execution_count": 26,
     "metadata": {},
     "output_type": "execute_result"
    }
   ],
   "source": [
    "df.gender.isna().sum()"
   ]
  },
  {
   "cell_type": "markdown",
   "id": "4c814edc",
   "metadata": {
    "papermill": {
     "duration": 0.017632,
     "end_time": "2025-08-08T15:28:19.771929",
     "exception": false,
     "start_time": "2025-08-08T15:28:19.754297",
     "status": "completed"
    },
    "tags": []
   },
   "source": [
    "Errors are replaced, it's time to train the model to predict missing values M and F"
   ]
  },
  {
   "cell_type": "code",
   "execution_count": 27,
   "id": "0e765331",
   "metadata": {
    "execution": {
     "iopub.execute_input": "2025-08-08T15:28:19.808785Z",
     "iopub.status.busy": "2025-08-08T15:28:19.808465Z",
     "iopub.status.idle": "2025-08-08T15:28:19.846320Z",
     "shell.execute_reply": "2025-08-08T15:28:19.845292Z"
    },
    "papermill": {
     "duration": 0.058468,
     "end_time": "2025-08-08T15:28:19.848090",
     "exception": false,
     "start_time": "2025-08-08T15:28:19.789622",
     "status": "completed"
    },
    "tags": []
   },
   "outputs": [
    {
     "name": "stdout",
     "output_type": "stream",
     "text": [
      "gender has              34272 empty rows\n",
      "antivirus has              0 empty rows\n",
      "multirum has              0 empty rows\n",
      "tv_paket has              0 empty rows\n",
      "is_active_jan_2018 has              0 empty rows\n",
      "is_active_jan_2019 has              0 empty rows\n",
      "months_active_on_jan_2019 has              0 empty rows\n",
      "avg_revenue_per_month has              0 empty rows\n",
      "profession has              0 empty rows\n",
      "gb_incoming_outgoung has              0 empty rows\n",
      "tv_hours_per_day has              0 empty rows\n",
      "virus_count_per_year has              0 empty rows\n",
      "num_of_support_interactions has              0 empty rows\n"
     ]
    }
   ],
   "source": [
    "#checking for empty rows before training model:\n",
    "for col in df:\n",
    "    count = df[col].isnull().sum()\n",
    "    print(f\"{col} has              {count} empty rows\")"
   ]
  },
  {
   "cell_type": "code",
   "execution_count": 28,
   "id": "f5970e26",
   "metadata": {
    "execution": {
     "iopub.execute_input": "2025-08-08T15:28:19.886507Z",
     "iopub.status.busy": "2025-08-08T15:28:19.885588Z",
     "iopub.status.idle": "2025-08-08T15:28:21.332666Z",
     "shell.execute_reply": "2025-08-08T15:28:21.331843Z"
    },
    "papermill": {
     "duration": 1.470387,
     "end_time": "2025-08-08T15:28:21.336855",
     "exception": false,
     "start_time": "2025-08-08T15:28:19.866468",
     "status": "completed"
    },
    "tags": []
   },
   "outputs": [
    {
     "data": {
      "text/html": [
       "<style>#sk-container-id-1 {color: black;background-color: white;}#sk-container-id-1 pre{padding: 0;}#sk-container-id-1 div.sk-toggleable {background-color: white;}#sk-container-id-1 label.sk-toggleable__label {cursor: pointer;display: block;width: 100%;margin-bottom: 0;padding: 0.3em;box-sizing: border-box;text-align: center;}#sk-container-id-1 label.sk-toggleable__label-arrow:before {content: \"▸\";float: left;margin-right: 0.25em;color: #696969;}#sk-container-id-1 label.sk-toggleable__label-arrow:hover:before {color: black;}#sk-container-id-1 div.sk-estimator:hover label.sk-toggleable__label-arrow:before {color: black;}#sk-container-id-1 div.sk-toggleable__content {max-height: 0;max-width: 0;overflow: hidden;text-align: left;background-color: #f0f8ff;}#sk-container-id-1 div.sk-toggleable__content pre {margin: 0.2em;color: black;border-radius: 0.25em;background-color: #f0f8ff;}#sk-container-id-1 input.sk-toggleable__control:checked~div.sk-toggleable__content {max-height: 200px;max-width: 100%;overflow: auto;}#sk-container-id-1 input.sk-toggleable__control:checked~label.sk-toggleable__label-arrow:before {content: \"▾\";}#sk-container-id-1 div.sk-estimator input.sk-toggleable__control:checked~label.sk-toggleable__label {background-color: #d4ebff;}#sk-container-id-1 div.sk-label input.sk-toggleable__control:checked~label.sk-toggleable__label {background-color: #d4ebff;}#sk-container-id-1 input.sk-hidden--visually {border: 0;clip: rect(1px 1px 1px 1px);clip: rect(1px, 1px, 1px, 1px);height: 1px;margin: -1px;overflow: hidden;padding: 0;position: absolute;width: 1px;}#sk-container-id-1 div.sk-estimator {font-family: monospace;background-color: #f0f8ff;border: 1px dotted black;border-radius: 0.25em;box-sizing: border-box;margin-bottom: 0.5em;}#sk-container-id-1 div.sk-estimator:hover {background-color: #d4ebff;}#sk-container-id-1 div.sk-parallel-item::after {content: \"\";width: 100%;border-bottom: 1px solid gray;flex-grow: 1;}#sk-container-id-1 div.sk-label:hover label.sk-toggleable__label {background-color: #d4ebff;}#sk-container-id-1 div.sk-serial::before {content: \"\";position: absolute;border-left: 1px solid gray;box-sizing: border-box;top: 0;bottom: 0;left: 50%;z-index: 0;}#sk-container-id-1 div.sk-serial {display: flex;flex-direction: column;align-items: center;background-color: white;padding-right: 0.2em;padding-left: 0.2em;position: relative;}#sk-container-id-1 div.sk-item {position: relative;z-index: 1;}#sk-container-id-1 div.sk-parallel {display: flex;align-items: stretch;justify-content: center;background-color: white;position: relative;}#sk-container-id-1 div.sk-item::before, #sk-container-id-1 div.sk-parallel-item::before {content: \"\";position: absolute;border-left: 1px solid gray;box-sizing: border-box;top: 0;bottom: 0;left: 50%;z-index: -1;}#sk-container-id-1 div.sk-parallel-item {display: flex;flex-direction: column;z-index: 1;position: relative;background-color: white;}#sk-container-id-1 div.sk-parallel-item:first-child::after {align-self: flex-end;width: 50%;}#sk-container-id-1 div.sk-parallel-item:last-child::after {align-self: flex-start;width: 50%;}#sk-container-id-1 div.sk-parallel-item:only-child::after {width: 0;}#sk-container-id-1 div.sk-dashed-wrapped {border: 1px dashed gray;margin: 0 0.4em 0.5em 0.4em;box-sizing: border-box;padding-bottom: 0.4em;background-color: white;}#sk-container-id-1 div.sk-label label {font-family: monospace;font-weight: bold;display: inline-block;line-height: 1.2em;}#sk-container-id-1 div.sk-label-container {text-align: center;}#sk-container-id-1 div.sk-container {/* jupyter's `normalize.less` sets `[hidden] { display: none; }` but bootstrap.min.css set `[hidden] { display: none !important; }` so we also need the `!important` here to be able to override the default hidden behavior on the sphinx rendered scikit-learn.org. See: https://github.com/scikit-learn/scikit-learn/issues/21755 */display: inline-block !important;position: relative;}#sk-container-id-1 div.sk-text-repr-fallback {display: none;}</style><div id=\"sk-container-id-1\" class=\"sk-top-container\"><div class=\"sk-text-repr-fallback\"><pre>LogisticRegression()</pre><b>In a Jupyter environment, please rerun this cell to show the HTML representation or trust the notebook. <br />On GitHub, the HTML representation is unable to render, please try loading this page with nbviewer.org.</b></div><div class=\"sk-container\" hidden><div class=\"sk-item\"><div class=\"sk-estimator sk-toggleable\"><input class=\"sk-toggleable__control sk-hidden--visually\" id=\"sk-estimator-id-1\" type=\"checkbox\" checked><label for=\"sk-estimator-id-1\" class=\"sk-toggleable__label sk-toggleable__label-arrow\">LogisticRegression</label><div class=\"sk-toggleable__content\"><pre>LogisticRegression()</pre></div></div></div></div></div>"
      ],
      "text/plain": [
       "LogisticRegression()"
      ]
     },
     "execution_count": 28,
     "metadata": {},
     "output_type": "execute_result"
    }
   ],
   "source": [
    "#I train LogisticRegression model to predict gender\n",
    "\n",
    "#Prepare the data\n",
    "train_df = df[df.gender.isin(['M', 'F'])]\n",
    "#Separate features(X) and target(y):\n",
    "X = train_df.drop(columns = ['gender'])\n",
    "y = train_df['gender']\n",
    "#Preprocess the data:\n",
    "X = pd.get_dummies(X, drop_first = True)\n",
    "#Split data into training and validation set:\n",
    "from sklearn.model_selection import train_test_split\n",
    "X_train, X_test, y_train, y_test = train_test_split(X, y, test_size = 0.2, random_state = 42)\n",
    "#Train the model:\n",
    "from sklearn.linear_model import LogisticRegression\n",
    "model = LogisticRegression()\n",
    "model.fit(X_train, y_train)"
   ]
  },
  {
   "cell_type": "code",
   "execution_count": 29,
   "id": "3b3459c2",
   "metadata": {
    "execution": {
     "iopub.execute_input": "2025-08-08T15:28:21.410771Z",
     "iopub.status.busy": "2025-08-08T15:28:21.410419Z",
     "iopub.status.idle": "2025-08-08T15:28:23.097923Z",
     "shell.execute_reply": "2025-08-08T15:28:23.096731Z"
    },
    "papermill": {
     "duration": 1.72322,
     "end_time": "2025-08-08T15:28:23.099320",
     "exception": false,
     "start_time": "2025-08-08T15:28:21.376100",
     "status": "completed"
    },
    "tags": []
   },
   "outputs": [
    {
     "name": "stdout",
     "output_type": "stream",
     "text": [
      "Accuracy: 0.49594155844155846\n",
      "              precision    recall  f1-score   support\n",
      "\n",
      "           F       0.50      0.41      0.45     22239\n",
      "           M       0.50      0.58      0.54     22113\n",
      "\n",
      "    accuracy                           0.50     44352\n",
      "   macro avg       0.50      0.50      0.49     44352\n",
      "weighted avg       0.50      0.50      0.49     44352\n",
      "\n"
     ]
    }
   ],
   "source": [
    "#Evaluate the model:\n",
    "from sklearn.metrics import accuracy_score, classification_report\n",
    "y_pred = model.predict(X_test)\n",
    "print(\"Accuracy:\", accuracy_score(y_test, y_pred))\n",
    "print(classification_report(y_test, y_pred))"
   ]
  },
  {
   "cell_type": "markdown",
   "id": "09f436cc",
   "metadata": {
    "papermill": {
     "duration": 0.018665,
     "end_time": "2025-08-08T15:28:23.136348",
     "exception": false,
     "start_time": "2025-08-08T15:28:23.117683",
     "status": "completed"
    },
    "tags": []
   },
   "source": [
    "And we see that the accuracy is 0.49, which means the model doesn't work.\n",
    "\n",
    "Probably, because other values don't predict gender in this dataset.\n",
    "\n",
    "To confirm this, I run a test for correlation between gender and other values:"
   ]
  },
  {
   "cell_type": "code",
   "execution_count": 30,
   "id": "39f13ad7",
   "metadata": {
    "execution": {
     "iopub.execute_input": "2025-08-08T15:28:23.176043Z",
     "iopub.status.busy": "2025-08-08T15:28:23.175730Z",
     "iopub.status.idle": "2025-08-08T15:28:23.267167Z",
     "shell.execute_reply": "2025-08-08T15:28:23.266117Z"
    },
    "papermill": {
     "duration": 0.113132,
     "end_time": "2025-08-08T15:28:23.268777",
     "exception": false,
     "start_time": "2025-08-08T15:28:23.155645",
     "status": "completed"
    },
    "tags": []
   },
   "outputs": [
    {
     "name": "stdout",
     "output_type": "stream",
     "text": [
      "tv_hours_per_day               0.003310\n",
      "tv_paket                       0.002872\n",
      "num_of_support_interactions    0.001500\n",
      "virus_count_per_year           0.000691\n",
      "is_active_jan_2019             0.000068\n",
      "avg_revenue_per_month         -0.000006\n",
      "antivirus                     -0.000161\n",
      "multirum                      -0.000283\n",
      "gb_incoming_outgoung          -0.001594\n",
      "months_active_on_jan_2019     -0.002549\n",
      "is_active_jan_2018            -0.003671\n",
      "dtype: float64\n"
     ]
    }
   ],
   "source": [
    "correl = train_df.select_dtypes(include = 'number').corrwith(train_df['gender'].map({'F': 0, 'M': 1}))\n",
    "print(correl.sort_values(ascending = False))"
   ]
  },
  {
   "cell_type": "markdown",
   "id": "fb204c9c",
   "metadata": {
    "papermill": {
     "duration": 0.019201,
     "end_time": "2025-08-08T15:28:23.306994",
     "exception": false,
     "start_time": "2025-08-08T15:28:23.287793",
     "status": "completed"
    },
    "tags": []
   },
   "source": [
    "Yep, there is no correlation. 1 is strong positive, -1 is strong negative, but we have 0.\n",
    "\n",
    "Training a model was sort of useless, but it's already done so I will replace nans with predicted values."
   ]
  },
  {
   "cell_type": "code",
   "execution_count": 31,
   "id": "67dd4173",
   "metadata": {
    "execution": {
     "iopub.execute_input": "2025-08-08T15:28:23.345584Z",
     "iopub.status.busy": "2025-08-08T15:28:23.345262Z",
     "iopub.status.idle": "2025-08-08T15:28:23.398446Z",
     "shell.execute_reply": "2025-08-08T15:28:23.397249Z"
    },
    "papermill": {
     "duration": 0.075315,
     "end_time": "2025-08-08T15:28:23.400833",
     "exception": false,
     "start_time": "2025-08-08T15:28:23.325518",
     "status": "completed"
    },
    "tags": []
   },
   "outputs": [],
   "source": [
    "#Identify rows needing prediction:\n",
    "predict_df = df[df['gender'].isna() |~df['gender'].isin(['F', 'M'])]\n",
    "#preprocess these rows:\n",
    "X_predict = pd.get_dummies(predict_df.drop(columns = ['gender']), drop_first = True)\n",
    "X_predict = X_predict.reindex(columns = X.columns, fill_value = 0)\n",
    "#Predict and update df:\n",
    "predictions = model.predict(X_predict)\n",
    "df.loc[predict_df.index, 'gender'] = predictions"
   ]
  },
  {
   "cell_type": "code",
   "execution_count": 32,
   "id": "86f84ba6",
   "metadata": {
    "execution": {
     "iopub.execute_input": "2025-08-08T15:28:23.441193Z",
     "iopub.status.busy": "2025-08-08T15:28:23.440869Z",
     "iopub.status.idle": "2025-08-08T15:28:23.461114Z",
     "shell.execute_reply": "2025-08-08T15:28:23.460231Z"
    },
    "papermill": {
     "duration": 0.042278,
     "end_time": "2025-08-08T15:28:23.462621",
     "exception": false,
     "start_time": "2025-08-08T15:28:23.420343",
     "status": "completed"
    },
    "tags": []
   },
   "outputs": [
    {
     "data": {
      "text/plain": [
       "gender\n",
       "M    130915\n",
       "F    125116\n",
       "Name: count, dtype: int64"
      ]
     },
     "execution_count": 32,
     "metadata": {},
     "output_type": "execute_result"
    }
   ],
   "source": [
    "df.gender.value_counts()"
   ]
  },
  {
   "cell_type": "markdown",
   "id": "bd6bf2a2",
   "metadata": {
    "papermill": {
     "duration": 0.018106,
     "end_time": "2025-08-08T15:28:23.499223",
     "exception": false,
     "start_time": "2025-08-08T15:28:23.481117",
     "status": "completed"
    },
    "tags": []
   },
   "source": [
    "Now it's time to do the actual analysis. Let's find out what makes revenue high and what makes it low."
   ]
  },
  {
   "cell_type": "code",
   "execution_count": 33,
   "id": "206632b8",
   "metadata": {
    "execution": {
     "iopub.execute_input": "2025-08-08T15:28:23.537324Z",
     "iopub.status.busy": "2025-08-08T15:28:23.536969Z",
     "iopub.status.idle": "2025-08-08T15:28:23.613758Z",
     "shell.execute_reply": "2025-08-08T15:28:23.612854Z"
    },
    "papermill": {
     "duration": 0.098215,
     "end_time": "2025-08-08T15:28:23.615561",
     "exception": false,
     "start_time": "2025-08-08T15:28:23.517346",
     "status": "completed"
    },
    "tags": []
   },
   "outputs": [],
   "source": [
    "#encode object columns in numbers:\n",
    "obj = ['gender', 'profession']\n",
    "edf = pd.get_dummies(df, columns = obj, drop_first = True)"
   ]
  },
  {
   "cell_type": "code",
   "execution_count": 34,
   "id": "a5011b5c",
   "metadata": {
    "execution": {
     "iopub.execute_input": "2025-08-08T15:28:23.654825Z",
     "iopub.status.busy": "2025-08-08T15:28:23.654477Z",
     "iopub.status.idle": "2025-08-08T15:28:23.790505Z",
     "shell.execute_reply": "2025-08-08T15:28:23.789641Z"
    },
    "papermill": {
     "duration": 0.157147,
     "end_time": "2025-08-08T15:28:23.791957",
     "exception": false,
     "start_time": "2025-08-08T15:28:23.634810",
     "status": "completed"
    },
    "tags": []
   },
   "outputs": [
    {
     "data": {
      "text/html": [
       "<div>\n",
       "<style scoped>\n",
       "    .dataframe tbody tr th:only-of-type {\n",
       "        vertical-align: middle;\n",
       "    }\n",
       "\n",
       "    .dataframe tbody tr th {\n",
       "        vertical-align: top;\n",
       "    }\n",
       "\n",
       "    .dataframe thead th {\n",
       "        text-align: right;\n",
       "    }\n",
       "</style>\n",
       "<table border=\"1\" class=\"dataframe\">\n",
       "  <thead>\n",
       "    <tr style=\"text-align: right;\">\n",
       "      <th></th>\n",
       "      <th>Feature</th>\n",
       "      <th>Correlation</th>\n",
       "      <th>P_value</th>\n",
       "      <th>ABS_corr</th>\n",
       "    </tr>\n",
       "  </thead>\n",
       "  <tbody>\n",
       "    <tr>\n",
       "      <th>6</th>\n",
       "      <td>avg_revenue_per_month</td>\n",
       "      <td>1.000000</td>\n",
       "      <td>0.000000e+00</td>\n",
       "      <td>1.000000</td>\n",
       "    </tr>\n",
       "    <tr>\n",
       "      <th>0</th>\n",
       "      <td>antivirus</td>\n",
       "      <td>0.070132</td>\n",
       "      <td>1.686577e-276</td>\n",
       "      <td>0.070132</td>\n",
       "    </tr>\n",
       "    <tr>\n",
       "      <th>1</th>\n",
       "      <td>multirum</td>\n",
       "      <td>0.069575</td>\n",
       "      <td>3.809494e-272</td>\n",
       "      <td>0.069575</td>\n",
       "    </tr>\n",
       "    <tr>\n",
       "      <th>2</th>\n",
       "      <td>tv_paket</td>\n",
       "      <td>0.067170</td>\n",
       "      <td>9.263062e-254</td>\n",
       "      <td>0.067170</td>\n",
       "    </tr>\n",
       "    <tr>\n",
       "      <th>8</th>\n",
       "      <td>tv_hours_per_day</td>\n",
       "      <td>0.063545</td>\n",
       "      <td>2.785625e-227</td>\n",
       "      <td>0.063545</td>\n",
       "    </tr>\n",
       "    <tr>\n",
       "      <th>9</th>\n",
       "      <td>virus_count_per_year</td>\n",
       "      <td>0.050516</td>\n",
       "      <td>2.752843e-144</td>\n",
       "      <td>0.050516</td>\n",
       "    </tr>\n",
       "    <tr>\n",
       "      <th>10</th>\n",
       "      <td>num_of_support_interactions</td>\n",
       "      <td>-0.038151</td>\n",
       "      <td>4.315644e-83</td>\n",
       "      <td>0.038151</td>\n",
       "    </tr>\n",
       "    <tr>\n",
       "      <th>4</th>\n",
       "      <td>is_active_jan_2019</td>\n",
       "      <td>0.022731</td>\n",
       "      <td>1.272775e-30</td>\n",
       "      <td>0.022731</td>\n",
       "    </tr>\n",
       "    <tr>\n",
       "      <th>5</th>\n",
       "      <td>months_active_on_jan_2019</td>\n",
       "      <td>0.019083</td>\n",
       "      <td>4.598488e-22</td>\n",
       "      <td>0.019083</td>\n",
       "    </tr>\n",
       "    <tr>\n",
       "      <th>7</th>\n",
       "      <td>gb_incoming_outgoung</td>\n",
       "      <td>0.009839</td>\n",
       "      <td>6.410525e-07</td>\n",
       "      <td>0.009839</td>\n",
       "    </tr>\n",
       "    <tr>\n",
       "      <th>11</th>\n",
       "      <td>gender_M</td>\n",
       "      <td>-0.009078</td>\n",
       "      <td>4.356483e-06</td>\n",
       "      <td>0.009078</td>\n",
       "    </tr>\n",
       "    <tr>\n",
       "      <th>17</th>\n",
       "      <td>profession_Student</td>\n",
       "      <td>0.003455</td>\n",
       "      <td>8.045782e-02</td>\n",
       "      <td>0.003455</td>\n",
       "    </tr>\n",
       "    <tr>\n",
       "      <th>14</th>\n",
       "      <td>profession_Engineer</td>\n",
       "      <td>-0.002301</td>\n",
       "      <td>2.443712e-01</td>\n",
       "      <td>0.002301</td>\n",
       "    </tr>\n",
       "    <tr>\n",
       "      <th>3</th>\n",
       "      <td>is_active_jan_2018</td>\n",
       "      <td>0.001293</td>\n",
       "      <td>5.130243e-01</td>\n",
       "      <td>0.001293</td>\n",
       "    </tr>\n",
       "    <tr>\n",
       "      <th>15</th>\n",
       "      <td>profession_Manager</td>\n",
       "      <td>-0.001244</td>\n",
       "      <td>5.291897e-01</td>\n",
       "      <td>0.001244</td>\n",
       "    </tr>\n",
       "    <tr>\n",
       "      <th>18</th>\n",
       "      <td>profession_Teacher</td>\n",
       "      <td>-0.001059</td>\n",
       "      <td>5.919172e-01</td>\n",
       "      <td>0.001059</td>\n",
       "    </tr>\n",
       "    <tr>\n",
       "      <th>13</th>\n",
       "      <td>profession_Doctor</td>\n",
       "      <td>0.000714</td>\n",
       "      <td>7.177118e-01</td>\n",
       "      <td>0.000714</td>\n",
       "    </tr>\n",
       "    <tr>\n",
       "      <th>12</th>\n",
       "      <td>profession_Developer</td>\n",
       "      <td>-0.000511</td>\n",
       "      <td>7.958066e-01</td>\n",
       "      <td>0.000511</td>\n",
       "    </tr>\n",
       "    <tr>\n",
       "      <th>16</th>\n",
       "      <td>profession_Retired</td>\n",
       "      <td>-0.000277</td>\n",
       "      <td>8.884000e-01</td>\n",
       "      <td>0.000277</td>\n",
       "    </tr>\n",
       "  </tbody>\n",
       "</table>\n",
       "</div>"
      ],
      "text/plain": [
       "                        Feature  Correlation        P_value  ABS_corr\n",
       "6         avg_revenue_per_month     1.000000   0.000000e+00  1.000000\n",
       "0                     antivirus     0.070132  1.686577e-276  0.070132\n",
       "1                      multirum     0.069575  3.809494e-272  0.069575\n",
       "2                      tv_paket     0.067170  9.263062e-254  0.067170\n",
       "8              tv_hours_per_day     0.063545  2.785625e-227  0.063545\n",
       "9          virus_count_per_year     0.050516  2.752843e-144  0.050516\n",
       "10  num_of_support_interactions    -0.038151   4.315644e-83  0.038151\n",
       "4            is_active_jan_2019     0.022731   1.272775e-30  0.022731\n",
       "5     months_active_on_jan_2019     0.019083   4.598488e-22  0.019083\n",
       "7          gb_incoming_outgoung     0.009839   6.410525e-07  0.009839\n",
       "11                     gender_M    -0.009078   4.356483e-06  0.009078\n",
       "17           profession_Student     0.003455   8.045782e-02  0.003455\n",
       "14          profession_Engineer    -0.002301   2.443712e-01  0.002301\n",
       "3            is_active_jan_2018     0.001293   5.130243e-01  0.001293\n",
       "15           profession_Manager    -0.001244   5.291897e-01  0.001244\n",
       "18           profession_Teacher    -0.001059   5.919172e-01  0.001059\n",
       "13            profession_Doctor     0.000714   7.177118e-01  0.000714\n",
       "12         profession_Developer    -0.000511   7.958066e-01  0.000511\n",
       "16           profession_Retired    -0.000277   8.884000e-01  0.000277"
      ]
     },
     "execution_count": 34,
     "metadata": {},
     "output_type": "execute_result"
    }
   ],
   "source": [
    "#find correlations between revenue and other values:\n",
    "from scipy.stats import pearsonr\n",
    "correlations = []\n",
    "for col in edf:\n",
    "    corr, p_value = pearsonr(edf[col], edf['avg_revenue_per_month'])\n",
    "    correlations.append({\n",
    "        'Feature': col,\n",
    "        'Correlation': corr,\n",
    "        'P_value': p_value,\n",
    "        'ABS_corr': abs(corr)\n",
    "    })\n",
    "res = pd.DataFrame(correlations).sort_values('ABS_corr', ascending = False)\n",
    "res"
   ]
  },
  {
   "cell_type": "markdown",
   "id": "d665cbbd",
   "metadata": {
    "papermill": {
     "duration": 0.019613,
     "end_time": "2025-08-08T15:28:23.830975",
     "exception": false,
     "start_time": "2025-08-08T15:28:23.811362",
     "status": "completed"
    },
    "tags": []
   },
   "source": [
    "We find that correlations are weak.\n",
    "\n",
    "In general, antivirus tops the list of revenue drivers. It's followed by multirum, tv, tv_hours.\n",
    "\n",
    "The number of support interactions predicts lesser revenue. Other correlations are so weak that they are negligible.\n",
    "\n",
    "It seems, I need to split this data on above 1000 and below 1000 and analyze them separately.\n",
    "\n",
    "Because from this dataset it is impossible to understand what drives standard revenue and what drives high revenue."
   ]
  },
  {
   "cell_type": "code",
   "execution_count": 35,
   "id": "5052f5e3",
   "metadata": {
    "execution": {
     "iopub.execute_input": "2025-08-08T15:28:23.871440Z",
     "iopub.status.busy": "2025-08-08T15:28:23.870761Z",
     "iopub.status.idle": "2025-08-08T15:28:23.890548Z",
     "shell.execute_reply": "2025-08-08T15:28:23.889693Z"
    },
    "papermill": {
     "duration": 0.042608,
     "end_time": "2025-08-08T15:28:23.892383",
     "exception": false,
     "start_time": "2025-08-08T15:28:23.849775",
     "status": "completed"
    },
    "tags": []
   },
   "outputs": [],
   "source": [
    "#split edf in below 1000 and above:\n",
    "edfb = edf[edf['avg_revenue_per_month'] <= 1000]\n",
    "edfa = edf[edf['avg_revenue_per_month'] > 1000]"
   ]
  },
  {
   "cell_type": "code",
   "execution_count": 36,
   "id": "5e6e5c8d",
   "metadata": {
    "execution": {
     "iopub.execute_input": "2025-08-08T15:28:23.934429Z",
     "iopub.status.busy": "2025-08-08T15:28:23.934094Z",
     "iopub.status.idle": "2025-08-08T15:28:24.044098Z",
     "shell.execute_reply": "2025-08-08T15:28:24.042970Z"
    },
    "papermill": {
     "duration": 0.133678,
     "end_time": "2025-08-08T15:28:24.045775",
     "exception": false,
     "start_time": "2025-08-08T15:28:23.912097",
     "status": "completed"
    },
    "tags": []
   },
   "outputs": [
    {
     "data": {
      "text/html": [
       "<div>\n",
       "<style scoped>\n",
       "    .dataframe tbody tr th:only-of-type {\n",
       "        vertical-align: middle;\n",
       "    }\n",
       "\n",
       "    .dataframe tbody tr th {\n",
       "        vertical-align: top;\n",
       "    }\n",
       "\n",
       "    .dataframe thead th {\n",
       "        text-align: right;\n",
       "    }\n",
       "</style>\n",
       "<table border=\"1\" class=\"dataframe\">\n",
       "  <thead>\n",
       "    <tr style=\"text-align: right;\">\n",
       "      <th></th>\n",
       "      <th>Features</th>\n",
       "      <th>Correlation</th>\n",
       "      <th>P_value</th>\n",
       "      <th>ABS_corr</th>\n",
       "    </tr>\n",
       "  </thead>\n",
       "  <tbody>\n",
       "    <tr>\n",
       "      <th>6</th>\n",
       "      <td>avg_revenue_per_month</td>\n",
       "      <td>1.000000</td>\n",
       "      <td>0.000000e+00</td>\n",
       "      <td>1.000000</td>\n",
       "    </tr>\n",
       "    <tr>\n",
       "      <th>0</th>\n",
       "      <td>antivirus</td>\n",
       "      <td>0.048155</td>\n",
       "      <td>2.427318e-107</td>\n",
       "      <td>0.048155</td>\n",
       "    </tr>\n",
       "    <tr>\n",
       "      <th>1</th>\n",
       "      <td>multirum</td>\n",
       "      <td>0.046572</td>\n",
       "      <td>1.619662e-100</td>\n",
       "      <td>0.046572</td>\n",
       "    </tr>\n",
       "    <tr>\n",
       "      <th>2</th>\n",
       "      <td>tv_paket</td>\n",
       "      <td>0.046449</td>\n",
       "      <td>5.335982e-100</td>\n",
       "      <td>0.046449</td>\n",
       "    </tr>\n",
       "    <tr>\n",
       "      <th>8</th>\n",
       "      <td>tv_hours_per_day</td>\n",
       "      <td>0.044371</td>\n",
       "      <td>2.069398e-91</td>\n",
       "      <td>0.044371</td>\n",
       "    </tr>\n",
       "    <tr>\n",
       "      <th>9</th>\n",
       "      <td>virus_count_per_year</td>\n",
       "      <td>0.035130</td>\n",
       "      <td>5.633680e-58</td>\n",
       "      <td>0.035130</td>\n",
       "    </tr>\n",
       "    <tr>\n",
       "      <th>10</th>\n",
       "      <td>num_of_support_interactions</td>\n",
       "      <td>-0.024762</td>\n",
       "      <td>1.144927e-29</td>\n",
       "      <td>0.024762</td>\n",
       "    </tr>\n",
       "    <tr>\n",
       "      <th>4</th>\n",
       "      <td>is_active_jan_2019</td>\n",
       "      <td>0.016354</td>\n",
       "      <td>8.009331e-14</td>\n",
       "      <td>0.016354</td>\n",
       "    </tr>\n",
       "    <tr>\n",
       "      <th>5</th>\n",
       "      <td>months_active_on_jan_2019</td>\n",
       "      <td>0.012511</td>\n",
       "      <td>1.099766e-08</td>\n",
       "      <td>0.012511</td>\n",
       "    </tr>\n",
       "    <tr>\n",
       "      <th>11</th>\n",
       "      <td>gender_M</td>\n",
       "      <td>-0.005521</td>\n",
       "      <td>1.168085e-02</td>\n",
       "      <td>0.005521</td>\n",
       "    </tr>\n",
       "    <tr>\n",
       "      <th>7</th>\n",
       "      <td>gb_incoming_outgoung</td>\n",
       "      <td>0.005368</td>\n",
       "      <td>1.420890e-02</td>\n",
       "      <td>0.005368</td>\n",
       "    </tr>\n",
       "    <tr>\n",
       "      <th>14</th>\n",
       "      <td>profession_Engineer</td>\n",
       "      <td>0.001614</td>\n",
       "      <td>4.608652e-01</td>\n",
       "      <td>0.001614</td>\n",
       "    </tr>\n",
       "    <tr>\n",
       "      <th>18</th>\n",
       "      <td>profession_Teacher</td>\n",
       "      <td>-0.001460</td>\n",
       "      <td>5.047341e-01</td>\n",
       "      <td>0.001460</td>\n",
       "    </tr>\n",
       "    <tr>\n",
       "      <th>3</th>\n",
       "      <td>is_active_jan_2018</td>\n",
       "      <td>-0.001348</td>\n",
       "      <td>5.379385e-01</td>\n",
       "      <td>0.001348</td>\n",
       "    </tr>\n",
       "    <tr>\n",
       "      <th>15</th>\n",
       "      <td>profession_Manager</td>\n",
       "      <td>-0.001080</td>\n",
       "      <td>6.218367e-01</td>\n",
       "      <td>0.001080</td>\n",
       "    </tr>\n",
       "    <tr>\n",
       "      <th>13</th>\n",
       "      <td>profession_Doctor</td>\n",
       "      <td>0.000833</td>\n",
       "      <td>7.036091e-01</td>\n",
       "      <td>0.000833</td>\n",
       "    </tr>\n",
       "    <tr>\n",
       "      <th>16</th>\n",
       "      <td>profession_Retired</td>\n",
       "      <td>-0.000441</td>\n",
       "      <td>8.403866e-01</td>\n",
       "      <td>0.000441</td>\n",
       "    </tr>\n",
       "    <tr>\n",
       "      <th>17</th>\n",
       "      <td>profession_Student</td>\n",
       "      <td>0.000372</td>\n",
       "      <td>8.650666e-01</td>\n",
       "      <td>0.000372</td>\n",
       "    </tr>\n",
       "    <tr>\n",
       "      <th>12</th>\n",
       "      <td>profession_Developer</td>\n",
       "      <td>0.000004</td>\n",
       "      <td>9.984481e-01</td>\n",
       "      <td>0.000004</td>\n",
       "    </tr>\n",
       "  </tbody>\n",
       "</table>\n",
       "</div>"
      ],
      "text/plain": [
       "                       Features  Correlation        P_value  ABS_corr\n",
       "6         avg_revenue_per_month     1.000000   0.000000e+00  1.000000\n",
       "0                     antivirus     0.048155  2.427318e-107  0.048155\n",
       "1                      multirum     0.046572  1.619662e-100  0.046572\n",
       "2                      tv_paket     0.046449  5.335982e-100  0.046449\n",
       "8              tv_hours_per_day     0.044371   2.069398e-91  0.044371\n",
       "9          virus_count_per_year     0.035130   5.633680e-58  0.035130\n",
       "10  num_of_support_interactions    -0.024762   1.144927e-29  0.024762\n",
       "4            is_active_jan_2019     0.016354   8.009331e-14  0.016354\n",
       "5     months_active_on_jan_2019     0.012511   1.099766e-08  0.012511\n",
       "11                     gender_M    -0.005521   1.168085e-02  0.005521\n",
       "7          gb_incoming_outgoung     0.005368   1.420890e-02  0.005368\n",
       "14          profession_Engineer     0.001614   4.608652e-01  0.001614\n",
       "18           profession_Teacher    -0.001460   5.047341e-01  0.001460\n",
       "3            is_active_jan_2018    -0.001348   5.379385e-01  0.001348\n",
       "15           profession_Manager    -0.001080   6.218367e-01  0.001080\n",
       "13            profession_Doctor     0.000833   7.036091e-01  0.000833\n",
       "16           profession_Retired    -0.000441   8.403866e-01  0.000441\n",
       "17           profession_Student     0.000372   8.650666e-01  0.000372\n",
       "12         profession_Developer     0.000004   9.984481e-01  0.000004"
      ]
     },
     "execution_count": 36,
     "metadata": {},
     "output_type": "execute_result"
    }
   ],
   "source": [
    "#analyze edf below 1000:\n",
    "from scipy.stats import pearsonr\n",
    "correlations_below_1000 = []\n",
    "for col in edfb:\n",
    "    corr, p_value = pearsonr(edfb[col], edfb['avg_revenue_per_month'])\n",
    "    correlations_below_1000.append({\n",
    "        'Features': col,\n",
    "        'Correlation': corr,\n",
    "        'P_value': p_value,\n",
    "        'ABS_corr': abs(corr)\n",
    "    })\n",
    "res = pd.DataFrame(correlations_below_1000).sort_values('ABS_corr', ascending = False)\n",
    "res"
   ]
  },
  {
   "cell_type": "markdown",
   "id": "b56d0589",
   "metadata": {
    "papermill": {
     "duration": 0.02322,
     "end_time": "2025-08-08T15:28:24.089415",
     "exception": false,
     "start_time": "2025-08-08T15:28:24.066195",
     "status": "completed"
    },
    "tags": []
   },
   "source": [
    "We see that for revenue below 1000 the overall picture is the same, and in fact, correlations are even weaker."
   ]
  },
  {
   "cell_type": "code",
   "execution_count": 37,
   "id": "c14fc9b7",
   "metadata": {
    "execution": {
     "iopub.execute_input": "2025-08-08T15:28:24.132479Z",
     "iopub.status.busy": "2025-08-08T15:28:24.131641Z",
     "iopub.status.idle": "2025-08-08T15:28:24.170785Z",
     "shell.execute_reply": "2025-08-08T15:28:24.169881Z"
    },
    "papermill": {
     "duration": 0.060905,
     "end_time": "2025-08-08T15:28:24.172311",
     "exception": false,
     "start_time": "2025-08-08T15:28:24.111406",
     "status": "completed"
    },
    "tags": []
   },
   "outputs": [
    {
     "data": {
      "text/html": [
       "<div>\n",
       "<style scoped>\n",
       "    .dataframe tbody tr th:only-of-type {\n",
       "        vertical-align: middle;\n",
       "    }\n",
       "\n",
       "    .dataframe tbody tr th {\n",
       "        vertical-align: top;\n",
       "    }\n",
       "\n",
       "    .dataframe thead th {\n",
       "        text-align: right;\n",
       "    }\n",
       "</style>\n",
       "<table border=\"1\" class=\"dataframe\">\n",
       "  <thead>\n",
       "    <tr style=\"text-align: right;\">\n",
       "      <th></th>\n",
       "      <th>Feature</th>\n",
       "      <th>Correlation</th>\n",
       "      <th>P_value</th>\n",
       "      <th>ABS_corr</th>\n",
       "    </tr>\n",
       "  </thead>\n",
       "  <tbody>\n",
       "    <tr>\n",
       "      <th>6</th>\n",
       "      <td>avg_revenue_per_month</td>\n",
       "      <td>1.000000</td>\n",
       "      <td>0.000000e+00</td>\n",
       "      <td>1.000000</td>\n",
       "    </tr>\n",
       "    <tr>\n",
       "      <th>1</th>\n",
       "      <td>multirum</td>\n",
       "      <td>0.051746</td>\n",
       "      <td>1.771888e-29</td>\n",
       "      <td>0.051746</td>\n",
       "    </tr>\n",
       "    <tr>\n",
       "      <th>2</th>\n",
       "      <td>tv_paket</td>\n",
       "      <td>0.051044</td>\n",
       "      <td>9.966631e-29</td>\n",
       "      <td>0.051044</td>\n",
       "    </tr>\n",
       "    <tr>\n",
       "      <th>8</th>\n",
       "      <td>tv_hours_per_day</td>\n",
       "      <td>0.048436</td>\n",
       "      <td>4.994241e-26</td>\n",
       "      <td>0.048436</td>\n",
       "    </tr>\n",
       "    <tr>\n",
       "      <th>0</th>\n",
       "      <td>antivirus</td>\n",
       "      <td>0.039967</td>\n",
       "      <td>3.176113e-18</td>\n",
       "      <td>0.039967</td>\n",
       "    </tr>\n",
       "    <tr>\n",
       "      <th>9</th>\n",
       "      <td>virus_count_per_year</td>\n",
       "      <td>0.031859</td>\n",
       "      <td>3.973352e-12</td>\n",
       "      <td>0.031859</td>\n",
       "    </tr>\n",
       "    <tr>\n",
       "      <th>10</th>\n",
       "      <td>num_of_support_interactions</td>\n",
       "      <td>-0.022338</td>\n",
       "      <td>1.149760e-06</td>\n",
       "      <td>0.022338</td>\n",
       "    </tr>\n",
       "    <tr>\n",
       "      <th>4</th>\n",
       "      <td>is_active_jan_2019</td>\n",
       "      <td>0.014428</td>\n",
       "      <td>1.681444e-03</td>\n",
       "      <td>0.014428</td>\n",
       "    </tr>\n",
       "    <tr>\n",
       "      <th>5</th>\n",
       "      <td>months_active_on_jan_2019</td>\n",
       "      <td>0.011348</td>\n",
       "      <td>1.348174e-02</td>\n",
       "      <td>0.011348</td>\n",
       "    </tr>\n",
       "    <tr>\n",
       "      <th>17</th>\n",
       "      <td>profession_Student</td>\n",
       "      <td>0.007023</td>\n",
       "      <td>1.262306e-01</td>\n",
       "      <td>0.007023</td>\n",
       "    </tr>\n",
       "    <tr>\n",
       "      <th>7</th>\n",
       "      <td>gb_incoming_outgoung</td>\n",
       "      <td>0.005026</td>\n",
       "      <td>2.738089e-01</td>\n",
       "      <td>0.005026</td>\n",
       "    </tr>\n",
       "    <tr>\n",
       "      <th>15</th>\n",
       "      <td>profession_Manager</td>\n",
       "      <td>-0.003790</td>\n",
       "      <td>4.093334e-01</td>\n",
       "      <td>0.003790</td>\n",
       "    </tr>\n",
       "    <tr>\n",
       "      <th>18</th>\n",
       "      <td>profession_Teacher</td>\n",
       "      <td>-0.003320</td>\n",
       "      <td>4.698383e-01</td>\n",
       "      <td>0.003320</td>\n",
       "    </tr>\n",
       "    <tr>\n",
       "      <th>3</th>\n",
       "      <td>is_active_jan_2018</td>\n",
       "      <td>0.002875</td>\n",
       "      <td>5.313978e-01</td>\n",
       "      <td>0.002875</td>\n",
       "    </tr>\n",
       "    <tr>\n",
       "      <th>13</th>\n",
       "      <td>profession_Doctor</td>\n",
       "      <td>-0.002395</td>\n",
       "      <td>6.020995e-01</td>\n",
       "      <td>0.002395</td>\n",
       "    </tr>\n",
       "    <tr>\n",
       "      <th>11</th>\n",
       "      <td>gender_M</td>\n",
       "      <td>0.001581</td>\n",
       "      <td>7.307507e-01</td>\n",
       "      <td>0.001581</td>\n",
       "    </tr>\n",
       "    <tr>\n",
       "      <th>16</th>\n",
       "      <td>profession_Retired</td>\n",
       "      <td>0.000756</td>\n",
       "      <td>8.692794e-01</td>\n",
       "      <td>0.000756</td>\n",
       "    </tr>\n",
       "    <tr>\n",
       "      <th>12</th>\n",
       "      <td>profession_Developer</td>\n",
       "      <td>-0.000273</td>\n",
       "      <td>9.526509e-01</td>\n",
       "      <td>0.000273</td>\n",
       "    </tr>\n",
       "    <tr>\n",
       "      <th>14</th>\n",
       "      <td>profession_Engineer</td>\n",
       "      <td>-0.000040</td>\n",
       "      <td>9.931207e-01</td>\n",
       "      <td>0.000040</td>\n",
       "    </tr>\n",
       "  </tbody>\n",
       "</table>\n",
       "</div>"
      ],
      "text/plain": [
       "                        Feature  Correlation       P_value  ABS_corr\n",
       "6         avg_revenue_per_month     1.000000  0.000000e+00  1.000000\n",
       "1                      multirum     0.051746  1.771888e-29  0.051746\n",
       "2                      tv_paket     0.051044  9.966631e-29  0.051044\n",
       "8              tv_hours_per_day     0.048436  4.994241e-26  0.048436\n",
       "0                     antivirus     0.039967  3.176113e-18  0.039967\n",
       "9          virus_count_per_year     0.031859  3.973352e-12  0.031859\n",
       "10  num_of_support_interactions    -0.022338  1.149760e-06  0.022338\n",
       "4            is_active_jan_2019     0.014428  1.681444e-03  0.014428\n",
       "5     months_active_on_jan_2019     0.011348  1.348174e-02  0.011348\n",
       "17           profession_Student     0.007023  1.262306e-01  0.007023\n",
       "7          gb_incoming_outgoung     0.005026  2.738089e-01  0.005026\n",
       "15           profession_Manager    -0.003790  4.093334e-01  0.003790\n",
       "18           profession_Teacher    -0.003320  4.698383e-01  0.003320\n",
       "3            is_active_jan_2018     0.002875  5.313978e-01  0.002875\n",
       "13            profession_Doctor    -0.002395  6.020995e-01  0.002395\n",
       "11                     gender_M     0.001581  7.307507e-01  0.001581\n",
       "16           profession_Retired     0.000756  8.692794e-01  0.000756\n",
       "12         profession_Developer    -0.000273  9.526509e-01  0.000273\n",
       "14          profession_Engineer    -0.000040  9.931207e-01  0.000040"
      ]
     },
     "execution_count": 37,
     "metadata": {},
     "output_type": "execute_result"
    }
   ],
   "source": [
    "#analyze edf above 1000:\n",
    "from scipy.stats import pearsonr\n",
    "correlations_above_1000 = []\n",
    "for col in edfa:\n",
    "    corr, p_value = pearsonr(edfa[col], edfa['avg_revenue_per_month'])\n",
    "    correlations_above_1000.append({\n",
    "        'Feature': col,\n",
    "        'Correlation': corr,\n",
    "        'P_value': p_value,\n",
    "        'ABS_corr': abs(corr)\n",
    "    })\n",
    "res = pd.DataFrame(correlations_above_1000).sort_values('ABS_corr', ascending = False)\n",
    "res"
   ]
  },
  {
   "cell_type": "markdown",
   "id": "4b3fed87",
   "metadata": {
    "papermill": {
     "duration": 0.018929,
     "end_time": "2025-08-08T15:28:24.211147",
     "exception": false,
     "start_time": "2025-08-08T15:28:24.192218",
     "status": "completed"
    },
    "tags": []
   },
   "source": [
    "For revenue above 1000 the picture is the same, only multirum tops the list.\n",
    "\n",
    "The possible reason is that the data is non-linear and monotonic/non-monotonic.\n",
    "\n",
    "That means, the applied Pearsonr method is wrong here.\n",
    "\n",
    "Looking at histplot of revenue and gb, I see that values decrease consistently, suggesting monotonic data.\n",
    "\n",
    "Let's run a test for non-linear, monotonic data."
   ]
  },
  {
   "cell_type": "code",
   "execution_count": 38,
   "id": "617027ea",
   "metadata": {
    "execution": {
     "iopub.execute_input": "2025-08-08T15:28:24.251718Z",
     "iopub.status.busy": "2025-08-08T15:28:24.251385Z",
     "iopub.status.idle": "2025-08-08T15:28:25.286214Z",
     "shell.execute_reply": "2025-08-08T15:28:25.285389Z"
    },
    "papermill": {
     "duration": 1.056467,
     "end_time": "2025-08-08T15:28:25.287915",
     "exception": false,
     "start_time": "2025-08-08T15:28:24.231448",
     "status": "completed"
    },
    "tags": []
   },
   "outputs": [
    {
     "data": {
      "text/html": [
       "<div>\n",
       "<style scoped>\n",
       "    .dataframe tbody tr th:only-of-type {\n",
       "        vertical-align: middle;\n",
       "    }\n",
       "\n",
       "    .dataframe tbody tr th {\n",
       "        vertical-align: top;\n",
       "    }\n",
       "\n",
       "    .dataframe thead th {\n",
       "        text-align: right;\n",
       "    }\n",
       "</style>\n",
       "<table border=\"1\" class=\"dataframe\">\n",
       "  <thead>\n",
       "    <tr style=\"text-align: right;\">\n",
       "      <th></th>\n",
       "      <th>Feature</th>\n",
       "      <th>Spearman_p</th>\n",
       "      <th>P_value</th>\n",
       "      <th>Monotonic</th>\n",
       "    </tr>\n",
       "  </thead>\n",
       "  <tbody>\n",
       "    <tr>\n",
       "      <th>0</th>\n",
       "      <td>antivirus</td>\n",
       "      <td>0.071906</td>\n",
       "      <td>1.376069e-290</td>\n",
       "      <td>False</td>\n",
       "    </tr>\n",
       "    <tr>\n",
       "      <th>1</th>\n",
       "      <td>multirum</td>\n",
       "      <td>0.070183</td>\n",
       "      <td>6.671157e-277</td>\n",
       "      <td>False</td>\n",
       "    </tr>\n",
       "    <tr>\n",
       "      <th>2</th>\n",
       "      <td>tv_paket</td>\n",
       "      <td>0.067555</td>\n",
       "      <td>1.160731e-256</td>\n",
       "      <td>False</td>\n",
       "    </tr>\n",
       "    <tr>\n",
       "      <th>7</th>\n",
       "      <td>tv_hours_per_day</td>\n",
       "      <td>0.064066</td>\n",
       "      <td>5.368597e-231</td>\n",
       "      <td>False</td>\n",
       "    </tr>\n",
       "    <tr>\n",
       "      <th>8</th>\n",
       "      <td>virus_count_per_year</td>\n",
       "      <td>0.058995</td>\n",
       "      <td>3.885112e-196</td>\n",
       "      <td>False</td>\n",
       "    </tr>\n",
       "    <tr>\n",
       "      <th>4</th>\n",
       "      <td>is_active_jan_2019</td>\n",
       "      <td>0.023275</td>\n",
       "      <td>5.030259e-32</td>\n",
       "      <td>False</td>\n",
       "    </tr>\n",
       "    <tr>\n",
       "      <th>5</th>\n",
       "      <td>months_active_on_jan_2019</td>\n",
       "      <td>0.016511</td>\n",
       "      <td>6.555483e-17</td>\n",
       "      <td>False</td>\n",
       "    </tr>\n",
       "    <tr>\n",
       "      <th>6</th>\n",
       "      <td>gb_incoming_outgoung</td>\n",
       "      <td>0.009250</td>\n",
       "      <td>2.863857e-06</td>\n",
       "      <td>False</td>\n",
       "    </tr>\n",
       "    <tr>\n",
       "      <th>16</th>\n",
       "      <td>profession_Student</td>\n",
       "      <td>0.002368</td>\n",
       "      <td>2.308694e-01</td>\n",
       "      <td>False</td>\n",
       "    </tr>\n",
       "    <tr>\n",
       "      <th>12</th>\n",
       "      <td>profession_Doctor</td>\n",
       "      <td>0.001022</td>\n",
       "      <td>6.051363e-01</td>\n",
       "      <td>False</td>\n",
       "    </tr>\n",
       "    <tr>\n",
       "      <th>3</th>\n",
       "      <td>is_active_jan_2018</td>\n",
       "      <td>0.000375</td>\n",
       "      <td>8.496056e-01</td>\n",
       "      <td>False</td>\n",
       "    </tr>\n",
       "    <tr>\n",
       "      <th>15</th>\n",
       "      <td>profession_Retired</td>\n",
       "      <td>-0.000032</td>\n",
       "      <td>9.870141e-01</td>\n",
       "      <td>False</td>\n",
       "    </tr>\n",
       "    <tr>\n",
       "      <th>17</th>\n",
       "      <td>profession_Teacher</td>\n",
       "      <td>-0.000687</td>\n",
       "      <td>7.282398e-01</td>\n",
       "      <td>False</td>\n",
       "    </tr>\n",
       "    <tr>\n",
       "      <th>11</th>\n",
       "      <td>profession_Developer</td>\n",
       "      <td>-0.001040</td>\n",
       "      <td>5.986531e-01</td>\n",
       "      <td>False</td>\n",
       "    </tr>\n",
       "    <tr>\n",
       "      <th>14</th>\n",
       "      <td>profession_Manager</td>\n",
       "      <td>-0.001203</td>\n",
       "      <td>5.428250e-01</td>\n",
       "      <td>False</td>\n",
       "    </tr>\n",
       "    <tr>\n",
       "      <th>13</th>\n",
       "      <td>profession_Engineer</td>\n",
       "      <td>-0.001698</td>\n",
       "      <td>3.902378e-01</td>\n",
       "      <td>False</td>\n",
       "    </tr>\n",
       "    <tr>\n",
       "      <th>10</th>\n",
       "      <td>gender_M</td>\n",
       "      <td>-0.009083</td>\n",
       "      <td>4.302110e-06</td>\n",
       "      <td>False</td>\n",
       "    </tr>\n",
       "    <tr>\n",
       "      <th>9</th>\n",
       "      <td>num_of_support_interactions</td>\n",
       "      <td>-0.037191</td>\n",
       "      <td>4.719598e-79</td>\n",
       "      <td>False</td>\n",
       "    </tr>\n",
       "  </tbody>\n",
       "</table>\n",
       "</div>"
      ],
      "text/plain": [
       "                        Feature  Spearman_p        P_value  Monotonic\n",
       "0                     antivirus    0.071906  1.376069e-290      False\n",
       "1                      multirum    0.070183  6.671157e-277      False\n",
       "2                      tv_paket    0.067555  1.160731e-256      False\n",
       "7              tv_hours_per_day    0.064066  5.368597e-231      False\n",
       "8          virus_count_per_year    0.058995  3.885112e-196      False\n",
       "4            is_active_jan_2019    0.023275   5.030259e-32      False\n",
       "5     months_active_on_jan_2019    0.016511   6.555483e-17      False\n",
       "6          gb_incoming_outgoung    0.009250   2.863857e-06      False\n",
       "16           profession_Student    0.002368   2.308694e-01      False\n",
       "12            profession_Doctor    0.001022   6.051363e-01      False\n",
       "3            is_active_jan_2018    0.000375   8.496056e-01      False\n",
       "15           profession_Retired   -0.000032   9.870141e-01      False\n",
       "17           profession_Teacher   -0.000687   7.282398e-01      False\n",
       "11         profession_Developer   -0.001040   5.986531e-01      False\n",
       "14           profession_Manager   -0.001203   5.428250e-01      False\n",
       "13          profession_Engineer   -0.001698   3.902378e-01      False\n",
       "10                     gender_M   -0.009083   4.302110e-06      False\n",
       "9   num_of_support_interactions   -0.037191   4.719598e-79      False"
      ]
     },
     "execution_count": 38,
     "metadata": {},
     "output_type": "execute_result"
    }
   ],
   "source": [
    "#Run a test for non-linear, monotonic data:\n",
    "from scipy.stats import spearmanr\n",
    "t = 'avg_revenue_per_month'\n",
    "r = []\n",
    "for col in edf:\n",
    "    if col != t:\n",
    "        rho, p = spearmanr(edf[col], edf[t])\n",
    "        r.append({\n",
    "            'Feature': col,\n",
    "            'Spearman_p': rho,\n",
    "            'P_value': p,\n",
    "            'Monotonic': abs(rho) > 0.7 and p < 0.05\n",
    "        })\n",
    "res = pd.DataFrame(r).sort_values('Spearman_p', ascending = False)\n",
    "res"
   ]
  },
  {
   "cell_type": "markdown",
   "id": "ddd20d11",
   "metadata": {
    "papermill": {
     "duration": 0.020273,
     "end_time": "2025-08-08T15:28:25.328285",
     "exception": false,
     "start_time": "2025-08-08T15:28:25.308012",
     "status": "completed"
    },
    "tags": []
   },
   "source": [
    "No monotonic data found, although that is strange because I see on histplots that data is monotonic. I probably do something wrong.\n",
    "\n",
    "Let's try the last thing - Feature Importance by Random Forest Regressor.\n",
    "\n",
    "Feature Importance answers which feature matters most."
   ]
  },
  {
   "cell_type": "code",
   "execution_count": 39,
   "id": "fce1517c",
   "metadata": {
    "execution": {
     "iopub.execute_input": "2025-08-08T15:28:25.371232Z",
     "iopub.status.busy": "2025-08-08T15:28:25.370935Z",
     "iopub.status.idle": "2025-08-08T15:28:25.390423Z",
     "shell.execute_reply": "2025-08-08T15:28:25.389351Z"
    },
    "papermill": {
     "duration": 0.043393,
     "end_time": "2025-08-08T15:28:25.392081",
     "exception": false,
     "start_time": "2025-08-08T15:28:25.348688",
     "status": "completed"
    },
    "tags": []
   },
   "outputs": [
    {
     "name": "stdout",
     "output_type": "stream",
     "text": [
      "<class 'pandas.core.frame.DataFrame'>\n",
      "RangeIndex: 256031 entries, 0 to 256030\n",
      "Data columns (total 19 columns):\n",
      " #   Column                       Non-Null Count   Dtype  \n",
      "---  ------                       --------------   -----  \n",
      " 0   antivirus                    256031 non-null  int64  \n",
      " 1   multirum                     256031 non-null  int64  \n",
      " 2   tv_paket                     256031 non-null  int64  \n",
      " 3   is_active_jan_2018           256031 non-null  int64  \n",
      " 4   is_active_jan_2019           256031 non-null  int64  \n",
      " 5   months_active_on_jan_2019    256031 non-null  float64\n",
      " 6   avg_revenue_per_month        256031 non-null  float64\n",
      " 7   gb_incoming_outgoung         256031 non-null  float64\n",
      " 8   tv_hours_per_day             256031 non-null  float64\n",
      " 9   virus_count_per_year         256031 non-null  int64  \n",
      " 10  num_of_support_interactions  256031 non-null  int64  \n",
      " 11  gender_M                     256031 non-null  bool   \n",
      " 12  profession_Developer         256031 non-null  bool   \n",
      " 13  profession_Doctor            256031 non-null  bool   \n",
      " 14  profession_Engineer          256031 non-null  bool   \n",
      " 15  profession_Manager           256031 non-null  bool   \n",
      " 16  profession_Retired           256031 non-null  bool   \n",
      " 17  profession_Student           256031 non-null  bool   \n",
      " 18  profession_Teacher           256031 non-null  bool   \n",
      "dtypes: bool(8), float64(4), int64(7)\n",
      "memory usage: 23.4 MB\n"
     ]
    }
   ],
   "source": [
    "edf.info()"
   ]
  },
  {
   "cell_type": "code",
   "execution_count": 40,
   "id": "b92a2a48",
   "metadata": {
    "execution": {
     "iopub.execute_input": "2025-08-08T15:28:25.441199Z",
     "iopub.status.busy": "2025-08-08T15:28:25.440734Z",
     "iopub.status.idle": "2025-08-08T15:29:46.471019Z",
     "shell.execute_reply": "2025-08-08T15:29:46.469935Z"
    },
    "papermill": {
     "duration": 81.076355,
     "end_time": "2025-08-08T15:29:46.492263",
     "exception": false,
     "start_time": "2025-08-08T15:28:25.415908",
     "status": "completed"
    },
    "tags": []
   },
   "outputs": [
    {
     "name": "stdout",
     "output_type": "stream",
     "text": [
      "                        Feature  Importance\n",
      "6          gb_incoming_outgoung    0.379812\n",
      "5     months_active_on_jan_2019    0.164001\n",
      "7              tv_hours_per_day    0.112716\n",
      "9   num_of_support_interactions    0.107150\n",
      "8          virus_count_per_year    0.076283\n",
      "10                     gender_M    0.031069\n",
      "14           profession_Manager    0.023104\n",
      "15           profession_Retired    0.022910\n",
      "16           profession_Student    0.013049\n",
      "3            is_active_jan_2018    0.011652\n"
     ]
    }
   ],
   "source": [
    "#train Random Forest Regressor\n",
    "from sklearn.ensemble import RandomForestRegressor\n",
    "X = edf.drop(columns = ['avg_revenue_per_month'])\n",
    "y = edf['avg_revenue_per_month']\n",
    "bool_cols = X.select_dtypes(include = 'bool').columns\n",
    "X[bool_cols] = X[bool_cols].astype(int)\n",
    "model = RandomForestRegressor(n_estimators = 100, random_state = 42, n_jobs = -1)\n",
    "model.fit(X, y)\n",
    "importance = pd.DataFrame({\n",
    "    'Feature': X.columns,\n",
    "    'Importance': model.feature_importances_,\n",
    "}).sort_values('Importance', ascending = False)\n",
    "print(importance.head(10))"
   ]
  },
  {
   "cell_type": "markdown",
   "id": "4909264e",
   "metadata": {
    "papermill": {
     "duration": 0.021035,
     "end_time": "2025-08-08T15:29:46.533509",
     "exception": false,
     "start_time": "2025-08-08T15:29:46.512474",
     "status": "completed"
    },
    "tags": []
   },
   "source": [
    "Finally, we confirmed that gb_incoming_outgoung is a main revenue driver."
   ]
  },
  {
   "cell_type": "code",
   "execution_count": 41,
   "id": "9059d0fc",
   "metadata": {
    "execution": {
     "iopub.execute_input": "2025-08-08T15:29:46.574231Z",
     "iopub.status.busy": "2025-08-08T15:29:46.573898Z",
     "iopub.status.idle": "2025-08-08T15:29:46.827594Z",
     "shell.execute_reply": "2025-08-08T15:29:46.826563Z"
    },
    "papermill": {
     "duration": 0.275908,
     "end_time": "2025-08-08T15:29:46.829248",
     "exception": false,
     "start_time": "2025-08-08T15:29:46.553340",
     "status": "completed"
    },
    "tags": []
   },
   "outputs": [
    {
     "data": {
      "text/plain": [
       "<Axes: xlabel='Importance', ylabel='Feature'>"
      ]
     },
     "execution_count": 41,
     "metadata": {},
     "output_type": "execute_result"
    },
    {
     "data": {
      "image/png": "[encoded data removed]",
      "text/plain": [
       "<Figure size 1000x600 with 1 Axes>"
      ]
     },
     "metadata": {},
     "output_type": "display_data"
    }
   ],
   "source": [
    "import matplotlib.pyplot as plt\n",
    "import seaborn as sns\n",
    "plt.figure(figsize = (10, 6))\n",
    "sns.barplot(x = 'Importance', y = 'Feature', data = importance.head(10))"
   ]
  }
 ],
 "metadata": {
  "kaggle": {
   "accelerator": "none",
   "dataSources": [
    {
     "datasetId": 8015072,
     "sourceId": 12682854,
     "sourceType": "datasetVersion"
    }
   ],
   "dockerImageVersionId": 31089,
   "isGpuEnabled": false,
   "isInternetEnabled": false,
   "language": "python",
   "sourceType": "notebook"
  },
  "kernelspec": {
   "display_name": "Python 3",
   "language": "python",
   "name": "python3"
  },
  "language_info": {
   "codemirror_mode": {
    "name": "ipython",
    "version": 3
   },
   "file_extension": ".py",
   "mimetype": "text/x-python",
   "name": "python",
   "nbconvert_exporter": "python",
   "pygments_lexer": "ipython3",
   "version": "3.11.13"
  },
  "papermill": {
   "default_parameters": {},
   "duration": 130.272225,
   "end_time": "2025-08-08T15:29:48.678895",
   "environment_variables": {},
   "exception": null,
   "input_path": "__notebook__.ipynb",
   "output_path": "__notebook__.ipynb",
   "parameters": {},
   "start_time": "2025-08-08T15:27:38.406670",
   "version": "2.6.0"
  }
 },
 "nbformat": 4,
 "nbformat_minor": 5
}
